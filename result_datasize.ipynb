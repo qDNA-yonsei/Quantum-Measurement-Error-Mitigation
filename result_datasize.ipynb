{
 "cells": [
  {
   "cell_type": "code",
   "execution_count": 4,
   "metadata": {},
   "outputs": [],
   "source": [
    "import numpy as np\n",
    "import pandas as pd\n",
    "import matplotlib.pyplot as plt\n",
    "import math\n",
    "import json\n",
    "import pickle\n",
    "\n",
    "from tensorflow import keras\n",
    "from keras import models, layers\n",
    "from keras.models import load_model\n",
    "\n",
    "from sklearn.model_selection import KFold\n",
    "from sklearn.metrics import accuracy_score\n",
    "from qiskit.visualization import plot_histogram \n",
    "import seaborn as sns\n"
   ]
  },
  {
   "cell_type": "code",
   "execution_count": 5,
   "metadata": {},
   "outputs": [],
   "source": [
    "def NN_model(n_qubit, n_hidden_layer = 4, n_nodes = 5, activation = 'relu', d = 0.0):\n",
    "    model = models.Sequential()\n",
    "    model.add(layers.Dense(n_nodes * (2 ** n_qubit), activation = activation, kernel_initializer= keras.initializers.lecun_normal, input_shape = (2 ** n_qubit, )))\n",
    "\n",
    "    for i in range(n_hidden_layer):\n",
    "        model.add(layers.Dense(n_nodes * (2 ** n_qubit), activation = activation, kernel_initializer= keras.initializers.lecun_normal))\n",
    "        #model.add(layers.Dropout(d))\n",
    "            \n",
    "    model.add(layers.Dense(2 ** n_qubit, activation = 'softmax'))\n",
    "    \n",
    "    return model\n",
    "\n",
    "def loss_function(p_ideal, p_mitigated, n_qubit):\n",
    "    MSE = 0\n",
    "    for i in range(len(p_mitigated)):\n",
    "        x = 0\n",
    "        for j in range(2**n_qubit):\n",
    "             x += (abs(p_mitigated[i][j] - p_ideal[i][j]) ** 2)\n",
    "        x /= 2**n_qubit\n",
    "        MSE += x\n",
    "    MSE /= len(p_mitigated)\n",
    "\n",
    "    KLD = 0\n",
    "    for i in range(len(p_mitigated)):\n",
    "        x = 0\n",
    "        for j in range(2**n_qubit):\n",
    "            if p_ideal[i][j] < 1e-15 or p_mitigated[i][j] < 1e-15:\n",
    "                x += 0\n",
    "            else:\n",
    "                x += p_ideal[i][j] * (math.log(p_ideal[i][j]) - math.log(p_mitigated[i][j]))\n",
    "        KLD += x\n",
    "    KLD /= len(p_mitigated)\n",
    "    \n",
    "    IF = 0\n",
    "    for i in range(len(p_mitigated)):\n",
    "        x = 0\n",
    "        for j in range(2**n_qubit):\n",
    "            x += math.sqrt(p_ideal[i][j] * p_mitigated[i][j])\n",
    "        IF += (1 - x**2)\n",
    "    IF /= len(p_mitigated)\n",
    "\n",
    "    return MSE, KLD, IF\n"
   ]
  },
  {
   "cell_type": "code",
   "execution_count": 6,
   "metadata": {},
   "outputs": [],
   "source": [
    "\n",
    "def get_train_test(x, y, mit, n_data, random_state = 0):\n",
    "    train_x = x.sample(n_data, random_state = random_state)\n",
    "    test_x = x.drop(train_x.index)\n",
    "\n",
    "    train_y = y.sample(n_data, random_state = random_state)\n",
    "    test_y = y.drop(train_y.index)\n",
    "\n",
    "    train_miti= mit.sample(n_data, random_state = random_state)\n",
    "    test_miti = mit.drop(train_miti.index)\n",
    "\n",
    "    train_x.reset_index(drop = True, inplace = True)\n",
    "    test_x.reset_index(drop = True, inplace = True)\n",
    "    train_y.reset_index(drop = True, inplace = True)\n",
    "    test_y.reset_index(drop = True, inplace = True)\n",
    "    train_miti.reset_index(drop = True, inplace = True)\n",
    "    test_miti.reset_index(drop = True, inplace = True)\n",
    "\n",
    "    return train_x, test_x, train_y, test_y, train_miti, test_miti\n",
    "\n",
    "def create_x(t, w, n, d):\n",
    "    return [t * x + w * n for x in range(d)]\n",
    "\n",
    "def show_plot(topics, unmitigated, LI, NN, type = 0, label = ['unmitigated', 'LI', 'NN']):\n",
    "    n = 1  # This is our first dataset (out of 2)\n",
    "    t = 3 # Number of dataset\n",
    "    d = 1 # Number of sets of bars\n",
    "    w = 0.8 # Width of each bar\n",
    "\n",
    "    value_a_x = create_x(t, w, 1, d)\n",
    "    value_b_x = create_x(t, w, 2, d)\n",
    "    value_c_x = create_x(t, w, 3, d)\n",
    "\n",
    "    ax = plt.subplot()\n",
    "    x_1 = [unmitigated[0][type]]\n",
    "    x_2 = [LI[0][type]]\n",
    "    x_3 = [NN[0][type]]\n",
    "    ax.bar(value_a_x, x_1, label = label[0], color = 'black')\n",
    "    ax.bar(value_b_x, x_2, label = label[1], color = 'white', edgecolor = 'black')\n",
    "    ax.bar(value_c_x, x_3, label = label[2], color = 'white', edgecolor = 'black', hatch = '/////')\n",
    "\n",
    "    #middle_x = [a for (a) in zip(value_a_x)]\n",
    "    ax.set_xticks(value_b_x)\n",
    "    ax.set_xticklabels(topics)\n",
    "    plt.legend()\n",
    "\n",
    "    img_name = ''\n",
    "    if type == 0:\n",
    "        plt.xlabel('(a) MSE')\n",
    "        img_name = 'MSE'\n",
    "    elif type == 1:\n",
    "        plt.xlabel('(b) KLD')\n",
    "        img_name = 'KLD'\n",
    "    else:\n",
    "        plt.xlabel('(c) IF')\n",
    "        img_name = 'IF'\n",
    "\n",
    "    plt.savefig('./img/'+ img_name +'.png')\n",
    "\n",
    "    plt.show()\n"
   ]
  },
  {
   "cell_type": "code",
   "execution_count": 13,
   "metadata": {},
   "outputs": [],
   "source": [
    "def make_mean_std(res, size):\n",
    "    t = [[] for i in range(size)]\n",
    "\n",
    "    for i in res:\n",
    "        for j in range(size):\n",
    "            t[j].append(i[j][2])\n",
    "\n",
    "    mean_res = []\n",
    "    std_res = []    \n",
    "    for i in t:\n",
    "        mean_res.append(np.mean(i))\n",
    "        std_res.append(np.std(i))\n",
    "        \n",
    "    return mean_res, std_res\n",
    "        "
   ]
  },
  {
   "cell_type": "code",
   "execution_count": 86,
   "metadata": {},
   "outputs": [],
   "source": [
    "n_qubits = [5]\n",
    "n_data = 300 \n",
    "times = [15]\n",
    "device_type = \"ibm_geneva\"\n",
    "number = 0\n",
    "\n",
    "#n_qubits = [5]\n",
    "#n_data = 900 \n",
    "#times = [5]\n",
    "#device_type = 'ibmq_toronto'\n",
    "#number = 0"
   ]
  },
  {
   "cell_type": "code",
   "execution_count": 87,
   "metadata": {},
   "outputs": [],
   "source": [
    "X = pd.read_csv(device_type + '_' + str(n_qubits[0]) +  'qubits_obs_' + str(number) + '.csv')\n",
    "Y = pd.read_csv(device_type + '_' + str(n_qubits[0]) +  'qubits_ideal_' + str(number) + '.csv')\n",
    "LI = pd.read_csv(device_type + '_' + str(n_qubits[0]) +  'qubits_miti_' + str(number) + '.csv')"
   ]
  },
  {
   "cell_type": "code",
   "execution_count": null,
   "metadata": {},
   "outputs": [],
   "source": []
  },
  {
   "cell_type": "code",
   "execution_count": null,
   "metadata": {},
   "outputs": [],
   "source": [
    "n_train_data = 4000\n",
    "random_state = [56, 1, 14, 44, 71]\n",
    "train_size = [50, 100, 500, 1000, 2000, 3000, 4000]\n",
    "\n",
    "unmitigated_res = []\n",
    "LI_res = []\n",
    "NN_res = []\n",
    "    \n",
    "for i in random_state:\n",
    "    trainX, testX, trainY, testY, train_LI_miti, test_LI_miti = get_train_test(X, Y, LI, n_train_data, random_state = i)\n",
    "    \n",
    "    unmitigated_p = []\n",
    "    LI_res_p = []\n",
    "    NN_res_p = []\n",
    "    \n",
    "    for j in train_size:\n",
    "        miti = []\n",
    "\n",
    "        model = NN_model(n_qubit = 5, n_hidden_layer = 2, n_nodes = 3, activation = 'selu')\n",
    "        lr_schedule = keras.optimizers.schedules.ExponentialDecay(\n",
    "            initial_learning_rate = 0.0001,\n",
    "            decay_steps = 100000,\n",
    "            decay_rate = 0.96)\n",
    "        adam = keras.optimizers.Adam(learning_rate = lr_schedule)\n",
    "        model.compile(loss='categorical_crossentropy', optimizer = adam, metrics = ['accuracy'])\n",
    "        model.fit(trainX[ : j], trainY[ : j], epochs = 300, batch_size = 16)\n",
    "\n",
    "        miti.append(model.predict(testX))    \n",
    "\n",
    "        unmitigated_p.append(loss_function(testY.values, testX.values, n_qubits[0]))\n",
    "        LI_res_p.append(loss_function(testY.values, test_LI_miti.values, n_qubits[0]))\n",
    "        NN_res_p.append(loss_function(testY.values, miti[0], n_qubits[0]))\n",
    "        \n",
    "    unmitigated_res.append(unmitigated_p)\n",
    "    LI_res.append(LI_res_p)\n",
    "    NN_res.append(NN_res_p)\n",
    "        "
   ]
  },
  {
   "cell_type": "code",
   "execution_count": null,
   "metadata": {},
   "outputs": [],
   "source": [
    "unmitigated_res_1 = []\n",
    "LI_res_1 = []\n",
    "NN_res_1 = []\n",
    "    \n",
    "for i in random_state:\n",
    "    trainX, testX, trainY, testY, train_LI_miti, test_LI_miti = get_train_test(X, Y, LI, n_train_data, random_state = i)\n",
    "    \n",
    "    unmitigated_p = []\n",
    "    LI_res_p = []\n",
    "    NN_res_p = []\n",
    "    \n",
    "    for j in train_size:\n",
    "        miti = []\n",
    "\n",
    "        model = NN_model(n_qubit = 5, n_hidden_layer = 2, n_nodes = 3, activation = 'selu')\n",
    "        lr_schedule = keras.optimizers.schedules.ExponentialDecay(\n",
    "            initial_learning_rate = 0.0001,\n",
    "            decay_steps = 100000,\n",
    "            decay_rate = 0.96)\n",
    "        adam = keras.optimizers.Adam(learning_rate = lr_schedule)\n",
    "        model.compile(loss='categorical_crossentropy', optimizer = adam, metrics = ['accuracy'])\n",
    "        model.fit(trainX[ : j], trainY[ : j], epochs = 300, batch_size = 1)\n",
    "\n",
    "        miti.append(model.predict(testX))    \n",
    "\n",
    "        unmitigated_p.append(loss_function(testY.values, testX.values, n_qubits[0]))\n",
    "        LI_res_p.append(loss_function(testY.values, test_LI_miti.values, n_qubits[0]))\n",
    "        NN_res_p.append(loss_function(testY.values, miti[0], n_qubits[0]))\n",
    "        \n",
    "    unmitigated_res_1.append(unmitigated_p)\n",
    "    LI_res_1.append(LI_res_p)\n",
    "    NN_res_1.append(NN_res_p)\n",
    "        "
   ]
  },
  {
   "cell_type": "code",
   "execution_count": 91,
   "metadata": {},
   "outputs": [],
   "source": [
    "mean_unmiti, std_unmiti = make_mean_std(unmitigated_res, len(train_size))\n",
    "mean_LI, std_LI = make_mean_std(LI_res, len(train_size))\n",
    "mean_NN, std_NN = make_mean_std(NN_res, len(train_size))\n",
    "mean_NN_1, std_NN_1 = make_mean_std(NN_res_1, len(train_size))\n"
   ]
  },
  {
   "cell_type": "code",
   "execution_count": 92,
   "metadata": {},
   "outputs": [
    {
     "name": "stdout",
     "output_type": "stream",
     "text": [
      "unmitigated_res mean :  [0.013133616640526652, 0.013133616640526652, 0.013133616640526652, 0.013133616640526652, 0.013133616640526652, 0.013133616640526652, 0.013133616640526652]  std :  [0.0005592838475052808, 0.0005592838475052808, 0.0005592838475052808, 0.0005592838475052808, 0.0005592838475052808, 0.0005592838475052808, 0.0005592838475052808]\n",
      "LI_res mean :  [0.013958654715502932, 0.013958654715502932, 0.013958654715502932, 0.013958654715502932, 0.013958654715502932, 0.013958654715502932, 0.013958654715502932]  std :  [0.00027093632036660255, 0.00027093632036660255, 0.00027093632036660255, 0.00027093632036660255, 0.00027093632036660255, 0.00027093632036660255, 0.00027093632036660255]\n",
      "NN_res mean :  [0.050755073385170005, 0.02819033880432607, 0.016579575042221434, 0.012404370664267975, 0.008607585123979635, 0.006730748675000932, 0.005983150190471347]  std :  [0.007737811664755506, 0.0012285994261599844, 0.0006361570120740855, 0.0004549938429737303, 0.00023132575311010862, 0.0003469733115057422, 0.0003222092436683139]\n",
      "NN_res_1 mean :  [0.04054345532281765, 0.02810471844749326, 0.010659262750534904, 0.007874893532375488, 0.006602565818387814, 0.005878678789038615, 0.005509941920240206]  std :  [0.0026440888004503754, 0.0015838094182965066, 0.00040414648805249173, 0.0004213217030636724, 0.0005969583228893179, 0.0002950255266799796, 0.00034943884911059784]\n"
     ]
    }
   ],
   "source": [
    "print(\"unmitigated_res mean : \", mean_unmiti, ' std : ', std_unmiti)\n",
    "print(\"LI_res mean : \", mean_LI, ' std : ', std_LI)\n",
    "print(\"NN_res mean : \", mean_NN, ' std : ', std_NN)\n",
    "print(\"NN_res_1 mean : \", mean_NN_1, ' std : ', std_NN_1)\n"
   ]
  },
  {
   "cell_type": "code",
   "execution_count": 93,
   "metadata": {},
   "outputs": [
    {
     "data": {
      "text/plain": [
       "<matplotlib.legend.Legend at 0x19d1d621890>"
      ]
     },
     "execution_count": 93,
     "metadata": {},
     "output_type": "execute_result"
    },
    {
     "data": {
      "image/png": "[encoded data removed]",
      "text/plain": [
       "<Figure size 640x480 with 1 Axes>"
      ]
     },
     "metadata": {},
     "output_type": "display_data"
    }
   ],
   "source": [
    "plt.errorbar(train_size, mean_unmiti, yerr = std_unmiti, capsize = 2, label = 'unmitigated_res')\n",
    "plt.errorbar(train_size, mean_LI, yerr = std_LI, capsize = 2, label = 'LI_res')\n",
    "plt.errorbar(train_size, mean_NN, yerr = std_NN, capsize = 2, label = 'NN_res (batch size = 16)')\n",
    "plt.errorbar(train_size, mean_NN_1, yerr = std_NN_1, capsize = 2, label = 'NN_res (batch size = 1)')\n",
    "plt.legend()"
   ]
  },
  {
   "cell_type": "code",
   "execution_count": null,
   "metadata": {},
   "outputs": [],
   "source": []
  },
  {
   "cell_type": "code",
   "execution_count": null,
   "metadata": {},
   "outputs": [],
   "source": []
  },
  {
   "attachments": {},
   "cell_type": "markdown",
   "metadata": {},
   "source": [
    "# transfer learning"
   ]
  },
  {
   "cell_type": "code",
   "execution_count": 21,
   "metadata": {},
   "outputs": [],
   "source": [
    "#n_qubits = [5]\n",
    "#n_data = 300 \n",
    "#times = [15]\n",
    "#device_type = \"ibm_geneva\"\n",
    "#number = 0\n",
    "\n",
    "n_qubits = [5]\n",
    "n_data = 900 \n",
    "times = [5]\n",
    "device_type = 'ibmq_toronto'\n",
    "number = 2\n",
    "\n",
    "# 아래는 학습한 device\n",
    "another_device_type = \"ibmq_toronto\""
   ]
  },
  {
   "cell_type": "code",
   "execution_count": 22,
   "metadata": {},
   "outputs": [],
   "source": [
    "X = pd.read_csv(device_type + '_' + str(n_qubits[0]) +  'qubits_obs_' + str(number) + '.csv')\n",
    "Y = pd.read_csv(device_type + '_' + str(n_qubits[0]) +  'qubits_ideal_' + str(number) + '.csv')\n",
    "LI = pd.read_csv(device_type + '_' + str(n_qubits[0]) +  'qubits_miti_' + str(number) + '.csv')"
   ]
  },
  {
   "cell_type": "code",
   "execution_count": null,
   "metadata": {},
   "outputs": [],
   "source": [
    "n_train_data = 4000\n",
    "random_state = [56, 1, 14, 44, 71]\n",
    "train_size = [50, 100, 500, 1000, 2000, 3000, 4000]\n",
    "\n",
    "unmitigated_res = []\n",
    "NN_res = []\n",
    "NN_transfer_res = []\n",
    "\n",
    "for i in random_state:\n",
    "    trainX, testX, trainY, testY, train_LI_miti, test_LI_miti = get_train_test(X, Y, LI, n_train_data, random_state = i)\n",
    "    \n",
    "    unmitigated_p = []\n",
    "    NN_res_p = []\n",
    "    NN_transfer_res_p = []\n",
    "    \n",
    "    for j in train_size:\n",
    "        \n",
    "        f = another_device_type + '_' + str(n_qubits[0]) + 'qubits_model.h5'\n",
    "        \n",
    "        miti_t1 = []\n",
    "        \n",
    "        model_t1 = load_model(f)\n",
    "        for layer in model_t1.layers:\n",
    "            layer.trainable = False\n",
    "\n",
    "        model_t1.layers[3].trainable = True\n",
    "\n",
    "        lr_schedule = keras.optimizers.schedules.ExponentialDecay(\n",
    "            initial_learning_rate = 0.0001,\n",
    "            decay_steps = 100000,\n",
    "            decay_rate = 0.96)\n",
    "        adam = keras.optimizers.Adam(learning_rate = lr_schedule)\n",
    "        model_t1.compile(loss = 'categorical_crossentropy', optimizer = adam, metrics = ['accuracy'])\n",
    "        history_1 = model_t1.fit(trainX[ : j], trainY[ : j], epochs = 300, batch_size = 16)\n",
    "\n",
    "        miti_t1.append(model_t1.predict(testX))           \n",
    "                \n",
    "        \n",
    "        miti_t2 = []\n",
    "\n",
    "        model_t2 = NN_model(n_qubit = 5, n_hidden_layer = 2, n_nodes = 3, activation = 'selu')\n",
    "        lr_schedule = keras.optimizers.schedules.ExponentialDecay(\n",
    "            initial_learning_rate = 0.0001,\n",
    "            decay_steps = 100000,\n",
    "            decay_rate = 0.96)\n",
    "        adam = keras.optimizers.Adam(learning_rate = lr_schedule)\n",
    "        model_t2.compile(loss='categorical_crossentropy', optimizer = adam, metrics = ['accuracy'])\n",
    "        model_t2.fit(trainX[ : j], trainY[ : j], epochs = 300, batch_size = 16)\n",
    "\n",
    "        miti_t2.append(model_t2.predict(testX))    \n",
    "\n",
    "        unmitigated_p.append(loss_function(testY.values, testX.values, n_qubits[0]))\n",
    "        NN_res_p.append(loss_function(testY.values, miti_t2[0], n_qubits[0]))\n",
    "        NN_transfer_res_p.append(loss_function(testY.values, miti_t1[0], n_qubits[0]))\n",
    "        \n",
    "        \n",
    "    unmitigated_res.append(unmitigated_p)\n",
    "    NN_res.append(NN_res_p)\n",
    "    NN_transfer_res.append(NN_transfer_res_p)\n"
   ]
  },
  {
   "cell_type": "code",
   "execution_count": 24,
   "metadata": {},
   "outputs": [],
   "source": [
    "mean_unmiti, std_unmiti = make_mean_std(unmitigated_res, len(train_size))\n",
    "mean_NN, std_NN = make_mean_std(NN_res, len(train_size))\n",
    "mean_NN_transfer, std_NN_transfer = make_mean_std(NN_transfer_res, len(train_size))"
   ]
  },
  {
   "cell_type": "code",
   "execution_count": 25,
   "metadata": {},
   "outputs": [
    {
     "name": "stdout",
     "output_type": "stream",
     "text": [
      "unmitigated_res mean :  [0.0076818280450871804, 0.0076818280450871804, 0.0076818280450871804, 0.0076818280450871804, 0.0076818280450871804, 0.0076818280450871804, 0.0076818280450871804]  std :  [0.00035569061226398553, 0.00035569061226398553, 0.00035569061226398553, 0.00035569061226398553, 0.00035569061226398553, 0.00035569061226398553, 0.00035569061226398553]\n",
      "NN_res mean :  [0.04814102290728038, 0.024126884160617708, 0.013442878627107547, 0.00900307027492774, 0.00399011227988543, 0.0024968008497261705, 0.001939212333328318]  std :  [0.007753773441811155, 0.0015767819585006154, 0.0009529207848723482, 0.000980634933846809, 0.0003862150245899347, 0.00033895420595045535, 0.0002826857950479928]\n",
      "NN_res_1 mean :  [0.0025293079400731107, 0.0022124918332365176, 0.0018088073129872463, 0.001629813803059475, 0.001491661360606908, 0.0014357971943855532, 0.001405738551665199]  std :  [0.0002135023255931385, 0.0002252713060444459, 0.00018279502846907977, 0.00018491962146383484, 0.0001661292136239251, 0.00015967385128488873, 0.00015744187398257078]\n"
     ]
    }
   ],
   "source": [
    "print(\"unmitigated_res mean : \", mean_unmiti, ' std : ', std_unmiti)\n",
    "print(\"NN_res mean : \", mean_NN, ' std : ', std_NN)\n",
    "print(\"NN_res_1 mean : \", mean_NN_transfer, ' std : ', std_NN_transfer)\n"
   ]
  },
  {
   "cell_type": "code",
   "execution_count": 26,
   "metadata": {},
   "outputs": [
    {
     "data": {
      "text/plain": [
       "<matplotlib.legend.Legend at 0x21697867ad0>"
      ]
     },
     "execution_count": 26,
     "metadata": {},
     "output_type": "execute_result"
    },
    {
     "data": {
      "image/png": "[encoded data removed]",
      "text/plain": [
       "<Figure size 640x480 with 1 Axes>"
      ]
     },
     "metadata": {},
     "output_type": "display_data"
    }
   ],
   "source": [
    "plt.errorbar(train_size, mean_unmiti, yerr = std_unmiti, capsize = 2, label = 'unmitigated_res')\n",
    "plt.errorbar(train_size, mean_NN, yerr = std_NN, capsize = 2, label = 'NN_res (batch size = 16)')\n",
    "plt.errorbar(train_size, mean_NN_transfer, yerr = std_NN_transfer, capsize = 2, label = 'NN_transfer_res (batch size = 16)')\n",
    "plt.legend()"
   ]
  },
  {
   "cell_type": "code",
   "execution_count": null,
   "metadata": {},
   "outputs": [],
   "source": []
  },
  {
   "cell_type": "code",
   "execution_count": null,
   "metadata": {},
   "outputs": [],
   "source": []
  }
 ],
 "metadata": {
  "kernelspec": {
   "display_name": "quantum",
   "language": "python",
   "name": "python3"
  },
  "language_info": {
   "codemirror_mode": {
    "name": "ipython",
    "version": 3
   },
   "file_extension": ".py",
   "mimetype": "text/x-python",
   "name": "python",
   "nbconvert_exporter": "python",
   "pygments_lexer": "ipython3",
   "version": "3.11.2"
  },
  "orig_nbformat": 4
 },
 "nbformat": 4,
 "nbformat_minor": 2
}
