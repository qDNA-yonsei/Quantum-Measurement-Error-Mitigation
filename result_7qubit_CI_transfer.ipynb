{
 "cells": [
  {
   "cell_type": "code",
   "execution_count": 1,
   "metadata": {},
   "outputs": [],
   "source": [
    "import numpy as np\n",
    "import pandas as pd\n",
    "import matplotlib.pyplot as plt\n",
    "import math\n",
    "import json\n",
    "import pickle\n",
    "\n",
    "from tensorflow import keras\n",
    "from keras import models, layers\n",
    "from keras.models import load_model\n",
    "\n",
    "from sklearn.model_selection import KFold\n",
    "from sklearn.metrics import accuracy_score\n",
    "from qiskit.visualization import plot_histogram \n",
    "import seaborn as sns\n",
    "from collections import defaultdict\n",
    "\n",
    "\n",
    "from tensorflow.keras import initializers\n",
    "from tensorflow.keras.layers import Dense, BatchNormalization\n",
    "from sklearn.preprocessing import StandardScaler\n"
   ]
  },
  {
   "cell_type": "code",
   "execution_count": 2,
   "metadata": {},
   "outputs": [],
   "source": [
    "def NN_model(n_qubit, n_hidden_layer = 4, n_nodes = 5, activation = 'relu', d = 0.0):\n",
    "    model = models.Sequential()\n",
    "    model.add(layers.Dense(n_nodes * (2 ** n_qubit), activation = activation, kernel_initializer= keras.initializers.lecun_normal, input_shape = (2 ** n_qubit, )))\n",
    "\n",
    "    for i in range(n_hidden_layer):\n",
    "        model.add(layers.Dense(n_nodes * (2 ** n_qubit), activation = activation, kernel_initializer= keras.initializers.lecun_normal))\n",
    "        #model.add(layers.Dropout(d))\n",
    "            \n",
    "    model.add(layers.Dense(2 ** n_qubit, activation = 'softmax'))\n",
    "    \n",
    "    return model\n",
    "\n",
    "def loss_function(p_ideal, p_mitigated, n_qubit):\n",
    "    MSE = 0\n",
    "    for i in range(len(p_mitigated)):\n",
    "        x = 0\n",
    "        for j in range(2**n_qubit):\n",
    "             x += (abs(p_mitigated[i][j] - p_ideal[i][j]) ** 2)\n",
    "        x /= 2**n_qubit\n",
    "        MSE += x\n",
    "    MSE /= len(p_mitigated)\n",
    "\n",
    "    KLD = 0\n",
    "    for i in range(len(p_mitigated)):\n",
    "        x = 0\n",
    "        for j in range(2**n_qubit):\n",
    "            if p_ideal[i][j] < 1e-15 or p_mitigated[i][j] < 1e-15:\n",
    "                x += 0\n",
    "            else:\n",
    "                x += p_ideal[i][j] * (math.log(p_ideal[i][j]) - math.log(p_mitigated[i][j]))\n",
    "        KLD += x\n",
    "    KLD /= len(p_mitigated)\n",
    "    \n",
    "    IF = 0\n",
    "    for i in range(len(p_mitigated)):\n",
    "        x = 0\n",
    "        for j in range(2**n_qubit):\n",
    "            x += math.sqrt(p_ideal[i][j] * p_mitigated[i][j])\n",
    "        IF += (1 - x**2)\n",
    "    IF /= len(p_mitigated)\n",
    "\n",
    "    return MSE, KLD, IF\n"
   ]
  },
  {
   "cell_type": "code",
   "execution_count": 3,
   "metadata": {},
   "outputs": [],
   "source": [
    "def get_train_test(x, y, mit, n_data, random_state = 0):\n",
    "    train_x = x.sample(n_data, random_state = random_state)\n",
    "    test_x = x.drop(train_x.index)\n",
    "\n",
    "    train_y = y.sample(n_data, random_state = random_state)\n",
    "    test_y = y.drop(train_y.index)\n",
    "\n",
    "    train_miti= mit.sample(n_data, random_state = random_state)\n",
    "    test_miti = mit.drop(train_miti.index)\n",
    "\n",
    "    train_x.reset_index(drop = True, inplace = True)\n",
    "    test_x.reset_index(drop = True, inplace = True)\n",
    "    train_y.reset_index(drop = True, inplace = True)\n",
    "    test_y.reset_index(drop = True, inplace = True)\n",
    "    train_miti.reset_index(drop = True, inplace = True)\n",
    "    test_miti.reset_index(drop = True, inplace = True)\n",
    "\n",
    "    return train_x, test_x, train_y, test_y, train_miti, test_miti\n",
    "\n",
    "def get_train_test_CI(x, y, n_data, random_state = 0):\n",
    "    train_x = x.sample(n_data, random_state = random_state)\n",
    "    test_x = x.drop(train_x.index)\n",
    "\n",
    "    train_y = y.sample(n_data, random_state = random_state)\n",
    "    test_y = y.drop(train_y.index)\n",
    "\n",
    "    train_x.reset_index(drop = True, inplace = True)\n",
    "    test_x.reset_index(drop = True, inplace = True)\n",
    "    train_y.reset_index(drop = True, inplace = True)\n",
    "    test_y.reset_index(drop = True, inplace = True)\n",
    "    \n",
    "    return train_x, test_x, train_y, test_y \n",
    "\n",
    "def create_x(t, w, n, d):\n",
    "    return [t * x + w * n for x in range(d)]\n",
    "\n",
    "def show_plot(topics, unmitigated, LI, NN, type = 0, label = ['unmitigated', 'LI', 'NN']):\n",
    "    n = 1  # This is our first dataset (out of 2)\n",
    "    t = 3 # Number of dataset\n",
    "    d = 1 # Number of sets of bars\n",
    "    w = 0.8 # Width of each bar\n",
    "\n",
    "    value_a_x = create_x(t, w, 1, d)\n",
    "    value_b_x = create_x(t, w, 2, d)\n",
    "    value_c_x = create_x(t, w, 3, d)\n",
    "\n",
    "    ax = plt.subplot()\n",
    "    x_1 = [unmitigated[0][type]]\n",
    "    x_2 = [LI[0][type]]\n",
    "    x_3 = [NN[0][type]]\n",
    "    ax.bar(value_a_x, x_1, label = label[0], color = 'black')\n",
    "    ax.bar(value_b_x, x_2, label = label[1], color = 'white', edgecolor = 'black')\n",
    "    ax.bar(value_c_x, x_3, label = label[2], color = 'white', edgecolor = 'black', hatch = '/////')\n",
    "\n",
    "    #middle_x = [a for (a) in zip(value_a_x)]\n",
    "    ax.set_xticks(value_b_x)\n",
    "    ax.set_xticklabels(topics)\n",
    "    plt.legend()\n",
    "\n",
    "    img_name = ''\n",
    "    if type == 0:\n",
    "        plt.xlabel('(a) MSE')\n",
    "        img_name = 'MSE'\n",
    "    elif type == 1:\n",
    "        plt.xlabel('(b) KLD')\n",
    "        img_name = 'KLD'\n",
    "    else:\n",
    "        plt.xlabel('(c) IF')\n",
    "        img_name = 'IF'\n",
    "\n",
    "    plt.savefig('./img/'+ img_name +'.png')\n",
    "\n",
    "    plt.show()\n"
   ]
  },
  {
   "cell_type": "code",
   "execution_count": 4,
   "metadata": {},
   "outputs": [],
   "source": [
    "def CI(miti_0, miti_1, miti_2, miti_3, miti_4):\n",
    "    columns = []\n",
    "    columns_1 = []\n",
    "\n",
    "    for i in range(2**3):\n",
    "        bit_i = str(bin(i)[2:]).zfill(3)\n",
    "        columns.append(bit_i)\n",
    "        \n",
    "    for i in range(2**1):\n",
    "        bit_i = str(bin(i)[2:]).zfill(1)\n",
    "        columns_1.append(bit_i)\n",
    "        \n",
    "    miti_a0 = pd.DataFrame(miti_0[0], columns = columns)\n",
    "    miti_a1 = pd.DataFrame(miti_1[0], columns = columns)\n",
    "    miti_a2 = pd.DataFrame(miti_2[0], columns = columns)\n",
    "    miti_a3 = pd.DataFrame(miti_3[0], columns = columns)\n",
    "    miti_a4 = pd.DataFrame(miti_4[0], columns = columns_1)\n",
    "\n",
    "    miti_a0 = miti_a0.to_dict('records')\n",
    "    miti_a1 = miti_a1.to_dict('records')\n",
    "    miti_a2 = miti_a2.to_dict('records')\n",
    "    miti_a3 = miti_a3.to_dict('records')\n",
    "    miti_a4 = miti_a4.to_dict('records')\n",
    "\n",
    "    CI_res = []\n",
    "    for k in range(len(miti_0[0])):\n",
    "        prob = {}\n",
    "        for i in range(2**3):\n",
    "            bit_i = str(bin(i)[2:]).zfill(3)\n",
    "            for j in range(2**3):\n",
    "                bit_j = str(bin(j)[2:]).zfill(3)\n",
    "                prob[bit_i + '0' + bit_j] = miti_a0[k][bit_i] * miti_a1[k][bit_j] * miti_a4[k]['0']\n",
    "                prob[bit_i + '1' + bit_j] = miti_a2[k][bit_i] * miti_a3[k][bit_j] * miti_a4[k]['1']\n",
    "        CI_res.append(prob)\n",
    "\n",
    "    res = pd.DataFrame(CI_res)\n",
    "    res = res.sort_index(axis = 1)\n",
    "    return res\n"
   ]
  },
  {
   "cell_type": "code",
   "execution_count": 5,
   "metadata": {},
   "outputs": [],
   "source": [
    "def train(trainX, trainY, testX, qubit, sz):\n",
    "    miti = []\n",
    "\n",
    "    model = NN_model(n_qubit = qubit, n_hidden_layer = 4, n_nodes = 5, activation = 'selu')\n",
    "    lr_schedule = keras.optimizers.schedules.ExponentialDecay(\n",
    "        initial_learning_rate = 0.0001,\n",
    "        decay_steps = 100000,\n",
    "        decay_rate = 0.96)\n",
    "    adam = keras.optimizers.Adam(learning_rate = lr_schedule)\n",
    "    model.compile(loss='categorical_crossentropy', optimizer = adam, metrics = ['accuracy'])\n",
    "    model.fit(trainX[ : sz], trainY[ : sz], epochs = 300, batch_size = 16, verbose = 0)\n",
    "\n",
    "    miti.append(model.predict(testX))\n",
    "    return miti"
   ]
  },
  {
   "cell_type": "code",
   "execution_count": 6,
   "metadata": {},
   "outputs": [],
   "source": [
    "def make_mean_std(res, size):\n",
    "    t = [[] for i in range(size)]\n",
    "\n",
    "    for i in res:\n",
    "        for j in range(size):\n",
    "            t[j].append(i[j][2])\n",
    "\n",
    "    mean_res = []\n",
    "    std_res = []    \n",
    "    for i in t:\n",
    "        mean_res.append(np.mean(i))\n",
    "        std_res.append(np.std(i))\n",
    "        \n",
    "    return mean_res, std_res\n",
    "        "
   ]
  },
  {
   "cell_type": "code",
   "execution_count": 7,
   "metadata": {},
   "outputs": [],
   "source": [
    "#n_qubits = [7]\n",
    "#n_data = 300\n",
    "#times = [39] # 11700, 39\n",
    "#device_type = 'ibm_lagos' \n",
    "#number = 0\n",
    "\n",
    "n_qubits = [7]\n",
    "n_data = 300\n",
    "times = [34] # 10200, 34\n",
    "device_type = 'ibmq_jakarta' \n",
    "number = 0"
   ]
  },
  {
   "cell_type": "code",
   "execution_count": 8,
   "metadata": {},
   "outputs": [],
   "source": [
    "X = pd.read_csv('./' + device_type + '/' + device_type + '_' + str(n_qubits[0]) +  'qubits_obs_' + str(number) + '.csv')\n",
    "Y = pd.read_csv('./' + device_type + '/' + device_type + '_' + str(n_qubits[0]) +  'qubits_ideal_' + str(number) + '.csv')\n",
    "LI = pd.read_csv('./' + device_type + '/' + device_type + '_' + str(n_qubits[0]) +  'qubits_miti_' + str(number) + '.csv')"
   ]
  },
  {
   "cell_type": "code",
   "execution_count": 9,
   "metadata": {},
   "outputs": [],
   "source": [
    "x_cba_given_d0 = pd.read_csv('./' + device_type + '/' + device_type + '_' + str(n_qubits[0]) +  'qubits' + '_obs_CI_' + str(0) + '.csv') \n",
    "x_cba_given_d1 = pd.read_csv('./' + device_type + '/' + device_type + '_' + str(n_qubits[0]) +  'qubits' + '_obs_CI_' + str(1) + '.csv') \n",
    "x_gfe_given_d0 = pd.read_csv('./' + device_type + '/' + device_type + '_' + str(n_qubits[0]) +  'qubits' + '_obs_CI_' + str(2) + '.csv') \n",
    "x_gfe_given_d1 = pd.read_csv('./' + device_type + '/' + device_type + '_' + str(n_qubits[0]) +  'qubits' + '_obs_CI_' + str(3) + '.csv') \n",
    "\n",
    "y_cba_given_d0 = pd.read_csv('./' + device_type + '/' + device_type + '_' + str(n_qubits[0]) +  'qubits' + '_ideal_CI_' + str(0) + '.csv') \n",
    "y_cba_given_d1 = pd.read_csv('./' + device_type + '/' + device_type + '_' + str(n_qubits[0]) +  'qubits' + '_ideal_CI_' + str(1) + '.csv') \n",
    "y_gfe_given_d0 = pd.read_csv('./' + device_type + '/' + device_type + '_' + str(n_qubits[0]) +  'qubits' + '_ideal_CI_' + str(2) + '.csv') \n",
    "y_gfe_given_d1 = pd.read_csv('./' + device_type + '/' + device_type + '_' + str(n_qubits[0]) +  'qubits' + '_ideal_CI_' + str(3) + '.csv') \n",
    "\n",
    "x_d = pd.read_csv('./' + device_type + '/' + device_type + '_' + str(n_qubits[0]) +  'qubits' + '_obs_CI_' + 'D' + '.csv') \n",
    "y_d = pd.read_csv('./' + device_type + '/' + device_type + '_' + str(n_qubits[0]) +  'qubits' + '_ideal_CI_' + 'D' + '.csv') \n"
   ]
  },
  {
   "cell_type": "code",
   "execution_count": null,
   "metadata": {},
   "outputs": [],
   "source": [
    "n_train_data = 9000 # 11700, 10200 -> 9000개 고정 ->test : 2700, 1200\n",
    "random_state = [56, 1, 14, 44, 71]\n",
    "train_size = [100, 500, 1000, 2000, 3000, 5000, 7000, 9000]\n",
    "\n",
    "unmitigated_res = []\n",
    "LI_res = []\n",
    "NN_res = []\n",
    "CI_res = []\n",
    "\n",
    "for i in random_state:\n",
    "    trainX, testX, trainY, testY, train_LI_miti, test_LI_miti = get_train_test(X, Y, LI, n_train_data, random_state = i)\n",
    "\n",
    "    trainX_cba_given_d0, testX_cba_given_d0, trainY_cba_given_d0, testY_cba_given_d0 = get_train_test_CI(x_cba_given_d0, y_cba_given_d0, n_train_data, random_state = i)\n",
    "    trainX_cba_given_d1, testX_cba_given_d1, trainY_cba_given_d1, testY_cba_given_d1 = get_train_test_CI(x_cba_given_d1, y_cba_given_d1, n_train_data, random_state = i)\n",
    "    trainX_gfe_given_d0, testX_gfe_given_d0, trainY_gfe_given_d0, testY_gfe_given_d0 = get_train_test_CI(x_gfe_given_d0, y_gfe_given_d0, n_train_data, random_state = i)\n",
    "    trainX_gfe_given_d1, testX_gfe_given_d1, trainY_gfe_given_d1, testY_gfe_given_d1 = get_train_test_CI(x_gfe_given_d1, y_gfe_given_d1, n_train_data, random_state = i)\n",
    "    trainX_d, testX_d, trainY_d, testY_d = get_train_test_CI(x_d, y_d, n_train_data, random_state = i)\n",
    "    \n",
    "    \n",
    "    unmitigated_p = []\n",
    "    LI_res_p = []\n",
    "    NN_res_p = []\n",
    "    CI_res_p = []\n",
    "    \n",
    "    for j in train_size:\n",
    "                \n",
    "        miti = train(trainX, trainY, testX, 7, j)\n",
    "        miti_0 = train(trainX_gfe_given_d0, trainY_gfe_given_d0, testX_gfe_given_d0, 3, j)\n",
    "        miti_1 = train(trainX_cba_given_d0, trainY_cba_given_d0, testX_cba_given_d0, 3, j)\n",
    "        miti_2 = train(trainX_gfe_given_d1, trainY_gfe_given_d1, testX_gfe_given_d1, 3, j)\n",
    "        miti_3 = train(trainX_cba_given_d1, trainY_cba_given_d1, testX_cba_given_d1, 3, j)        \n",
    "        miti_4 = train(trainX_d, trainY_d, testX_d, 1, j)\n",
    "        \n",
    "        \n",
    "        res = CI(miti_0, miti_1, miti_2, miti_3, miti_4)\n",
    "        \n",
    "\n",
    "        unmitigated_p.append(loss_function(testY.values, testX.values, n_qubits[0]))\n",
    "        LI_res_p.append(loss_function(testY.values, test_LI_miti.values, n_qubits[0]))\n",
    "        NN_res_p.append(loss_function(testY.values, miti[0], n_qubits[0]))\n",
    "        CI_res_p.append(loss_function(testY.values, res.values, n_qubits[0]))\n",
    "        \n",
    "    unmitigated_res.append(unmitigated_p)\n",
    "    LI_res.append(LI_res_p)\n",
    "    NN_res.append(NN_res_p)\n",
    "    CI_res.append(CI_res_p)\n",
    "        "
   ]
  },
  {
   "cell_type": "code",
   "execution_count": 11,
   "metadata": {},
   "outputs": [],
   "source": [
    "mean_unmiti, std_unmiti = make_mean_std(unmitigated_res, len(train_size))\n",
    "mean_LI, std_LI = make_mean_std(LI_res, len(train_size))\n",
    "mean_NN, std_NN = make_mean_std(NN_res, len(train_size))\n",
    "mean_NN_CI, std_NN_CI = make_mean_std(CI_res, len(train_size))\n"
   ]
  },
  {
   "cell_type": "code",
   "execution_count": 12,
   "metadata": {},
   "outputs": [
    {
     "name": "stdout",
     "output_type": "stream",
     "text": [
      "unmitigated_res mean :  [0.02048258824190162, 0.02048258824190162, 0.02048258824190162, 0.02048258824190162, 0.02048258824190162, 0.02048258824190162, 0.02048258824190162, 0.02048258824190162]  std :  [0.0004469423374365726, 0.0004469423374365726, 0.0004469423374365726, 0.0004469423374365726, 0.0004469423374365726, 0.0004469423374365726, 0.0004469423374365726, 0.0004469423374365726]\n",
      "LI_res mean :  [0.007119172720784561, 0.007119172720784561, 0.007119172720784561, 0.007119172720784561, 0.007119172720784561, 0.007119172720784561, 0.007119172720784561, 0.007119172720784561]  std :  [0.0001221803288293415, 0.0001221803288293415, 0.0001221803288293415, 0.0001221803288293415, 0.0001221803288293415, 0.0001221803288293415, 0.0001221803288293415, 0.0001221803288293415]\n",
      "NN_res mean :  [0.06924659196878558, 0.02419564452554052, 0.012247056103545416, 0.0067538722285173615, 0.0053097741313587144, 0.004154747008484897, 0.003487832237531402, 0.003264568183705802]  std :  [0.003024571298561015, 0.0006072046456954826, 0.00032678865906738915, 0.0003985876803287599, 0.00018479787686765254, 0.00025724848439431704, 0.0001774449654971044, 9.052044311568119e-05]\n",
      "NN_res_CI mean :  [0.025490574728821037, 0.00708693220646687, 0.004322046336983929, 0.0031810786445465996, 0.002809500013300396, 0.0024975350956794986, 0.0023214522088171622, 0.002225620318683829]  std :  [0.001401643869983576, 0.0003223817031364227, 0.00024611010352160173, 0.00020722518599439549, 0.00014315965600421792, 0.00014603610714506457, 7.187335139908434e-05, 0.00012486326682089945]\n"
     ]
    }
   ],
   "source": [
    "print(\"unmitigated_res mean : \", mean_unmiti, ' std : ', std_unmiti)\n",
    "print(\"LI_res mean : \", mean_LI, ' std : ', std_LI)\n",
    "print(\"NN_res mean : \", mean_NN, ' std : ', std_NN)\n",
    "print(\"NN_res_CI mean : \", mean_NN_CI, ' std : ', std_NN_CI)\n"
   ]
  },
  {
   "cell_type": "code",
   "execution_count": 13,
   "metadata": {},
   "outputs": [
    {
     "data": {
      "text/plain": [
       "<matplotlib.legend.Legend at 0x23404385b50>"
      ]
     },
     "execution_count": 13,
     "metadata": {},
     "output_type": "execute_result"
    },
    {
     "data": {
      "image/png": "[encoded data removed]",
      "text/plain": [
       "<Figure size 640x480 with 1 Axes>"
      ]
     },
     "metadata": {},
     "output_type": "display_data"
    }
   ],
   "source": [
    "plt.errorbar(train_size, mean_unmiti, yerr = std_unmiti, capsize = 2, label = 'unmitigated_res')\n",
    "plt.errorbar(train_size, mean_LI, yerr = std_LI, capsize = 2, label = 'LI_res')\n",
    "plt.errorbar(train_size, mean_NN, yerr = std_NN, capsize = 2, label = 'NN_res (batch size = 16)')\n",
    "plt.errorbar(train_size, mean_NN_CI, yerr = std_NN_CI, capsize = 2, label = 'CI_res (batch size = 16)')\n",
    "plt.legend()"
   ]
  },
  {
   "cell_type": "code",
   "execution_count": null,
   "metadata": {},
   "outputs": [],
   "source": []
  },
  {
   "cell_type": "code",
   "execution_count": null,
   "metadata": {},
   "outputs": [],
   "source": []
  },
  {
   "attachments": {},
   "cell_type": "markdown",
   "metadata": {},
   "source": [
    "# transfer"
   ]
  },
  {
   "cell_type": "code",
   "execution_count": 95,
   "metadata": {},
   "outputs": [],
   "source": [
    "def train_save(trainX, trainY, qubit, sz, device_type, cd):\n",
    "\n",
    "    model = NN_model(n_qubit = qubit, n_hidden_layer = 4, n_nodes = 5, activation = 'selu')\n",
    "    lr_schedule = keras.optimizers.schedules.ExponentialDecay(\n",
    "        initial_learning_rate = 0.0001,\n",
    "        decay_steps = 100000,\n",
    "        decay_rate = 0.96)\n",
    "    adam = keras.optimizers.Adam(learning_rate = lr_schedule)\n",
    "    model.compile(loss='categorical_crossentropy', optimizer = adam, metrics = ['accuracy'])\n",
    "    model.fit(trainX[ : sz], trainY[ : sz], epochs = 300, batch_size = 16, verbose = 0)\n",
    "    f = './' + device_type + '/' + device_type + '_' + str(qubit) + 'qubits' + cd +' model.h5'\n",
    "    model.save(f)              "
   ]
  },
  {
   "cell_type": "code",
   "execution_count": 96,
   "metadata": {},
   "outputs": [],
   "source": [
    "#n_qubits = [7]\n",
    "#n_data = 300\n",
    "#times = [39] # 11700, 39\n",
    "#device_type = 'ibm_lagos' \n",
    "#number = 0\n",
    "\n",
    "n_qubits = [7]\n",
    "n_data = 300\n",
    "times = [34] # 10200, 34\n",
    "device_type = 'ibmq_jakarta' \n",
    "number = 0"
   ]
  },
  {
   "cell_type": "code",
   "execution_count": 97,
   "metadata": {},
   "outputs": [],
   "source": [
    "X = pd.read_csv('./' + device_type + '/' + device_type + '_' + str(n_qubits[0]) +  'qubits_obs_' + str(number) + '.csv')\n",
    "Y = pd.read_csv('./' + device_type + '/' + device_type + '_' + str(n_qubits[0]) +  'qubits_ideal_' + str(number) + '.csv')\n",
    "LI = pd.read_csv('./' + device_type + '/' + device_type + '_' + str(n_qubits[0]) +  'qubits_miti_' + str(number) + '.csv')"
   ]
  },
  {
   "cell_type": "code",
   "execution_count": 98,
   "metadata": {},
   "outputs": [],
   "source": [
    "x_cba_given_d0 = pd.read_csv('./' + device_type + '/' + device_type + '_' + str(n_qubits[0]) +  'qubits' + '_obs_CI_' + str(0) + '.csv') \n",
    "x_cba_given_d1 = pd.read_csv('./' + device_type + '/' + device_type + '_' + str(n_qubits[0]) +  'qubits' + '_obs_CI_' + str(1) + '.csv') \n",
    "x_gfe_given_d0 = pd.read_csv('./' + device_type + '/' + device_type + '_' + str(n_qubits[0]) +  'qubits' + '_obs_CI_' + str(2) + '.csv') \n",
    "x_gfe_given_d1 = pd.read_csv('./' + device_type + '/' + device_type + '_' + str(n_qubits[0]) +  'qubits' + '_obs_CI_' + str(3) + '.csv') \n",
    "\n",
    "y_cba_given_d0 = pd.read_csv('./' + device_type + '/' + device_type + '_' + str(n_qubits[0]) +  'qubits' + '_ideal_CI_' + str(0) + '.csv') \n",
    "y_cba_given_d1 = pd.read_csv('./' + device_type + '/' + device_type + '_' + str(n_qubits[0]) +  'qubits' + '_ideal_CI_' + str(1) + '.csv') \n",
    "y_gfe_given_d0 = pd.read_csv('./' + device_type + '/' + device_type + '_' + str(n_qubits[0]) +  'qubits' + '_ideal_CI_' + str(2) + '.csv') \n",
    "y_gfe_given_d1 = pd.read_csv('./' + device_type + '/' + device_type + '_' + str(n_qubits[0]) +  'qubits' + '_ideal_CI_' + str(3) + '.csv') \n",
    "\n",
    "x_d = pd.read_csv('./' + device_type + '/' + device_type + '_' + str(n_qubits[0]) +  'qubits' + '_obs_CI_' + 'D' + '.csv') \n",
    "y_d = pd.read_csv('./' + device_type + '/' + device_type + '_' + str(n_qubits[0]) +  'qubits' + '_ideal_CI_' + 'D' + '.csv') \n"
   ]
  },
  {
   "cell_type": "code",
   "execution_count": 99,
   "metadata": {},
   "outputs": [],
   "source": [
    "n_train_data = 9000 # 11700, 10200 -> 9000개 고정 ->test : 2700, 1200\n",
    "random_state = [56, 1, 14, 44, 71]\n",
    "#train_size = [100, 500, 1000, 2000, 3000, 5000, 7000, 9000]\n",
    "train_szie = [9000]\n",
    "\n",
    "# pre- trained NN\n",
    "trainX, testX, trainY, testY, train_LI_miti, test_LI_miti = get_train_test(X, Y, LI, n_train_data, random_state = random_state[0])\n",
    "\n",
    "trainX_cba_given_d0, testX_cba_given_d0, trainY_cba_given_d0, testY_cba_given_d0 = get_train_test_CI(x_cba_given_d0, y_cba_given_d0, n_train_data, random_state = random_state[0])\n",
    "trainX_cba_given_d1, testX_cba_given_d1, trainY_cba_given_d1, testY_cba_given_d1 = get_train_test_CI(x_cba_given_d1, y_cba_given_d1, n_train_data, random_state = random_state[0])\n",
    "trainX_d, testX_d, trainY_d, testY_d = get_train_test_CI(x_d, y_d, n_train_data, random_state = random_state[0])\n",
    "train_save(trainX_cba_given_d0, trainY_cba_given_d0, 3, train_szie[0], device_type, cd = '_d0_')\n",
    "train_save(trainX_cba_given_d1, trainY_cba_given_d1, 3, train_szie[0], device_type, cd = '_d1_')\n",
    "train_save(trainX_d, trainY_d, 1, train_szie[0], device_type, cd = '_d_')\n"
   ]
  },
  {
   "cell_type": "code",
   "execution_count": 100,
   "metadata": {},
   "outputs": [
    {
     "name": "stdout",
     "output_type": "stream",
     "text": [
      "38/38 [==============================] - 0s 377us/step\n",
      "38/38 [==============================] - 0s 377us/step\n",
      "38/38 [==============================] - 0s 377us/step\n"
     ]
    }
   ],
   "source": [
    "miti_0 = []\n",
    "miti_1 = []\n",
    "miti_2 = []\n",
    "miti_3 = []\n",
    "miti_4 = []\n",
    "\n",
    "f_1 = './' + device_type + '/' + device_type + '_' + str(3) + 'qubits' + '_d0_' +' model.h5'\n",
    "f_2 = './' + device_type + '/' + device_type + '_' + str(3) + 'qubits' + '_d1_' +' model.h5'\n",
    "f_3 = './' + device_type + '/' + device_type + '_' + str(1) + 'qubits' + '_d_' +' model.h5'\n",
    "\n",
    "model_t1 = load_model(f_1)\n",
    "model_t2 = load_model(f_2)\n",
    "model_t3 = load_model(f_3)\n",
    "\n",
    "for layer in model_t1.layers:\n",
    "    layer.trainable = False\n",
    "\n",
    "for layer in model_t2.layers:\n",
    "    layer.trainable = False\n",
    "\n",
    "for layer in model_t3.layers:\n",
    "    layer.trainable = False\n",
    "\n",
    "miti_1.append(model_t1.predict(testX_cba_given_d0)) \n",
    "miti_3.append(model_t2.predict(testX_cba_given_d1))\n",
    "miti_4.append(model_t3.predict(testX_d))\n"
   ]
  },
  {
   "cell_type": "code",
   "execution_count": 101,
   "metadata": {},
   "outputs": [
    {
     "name": "stdout",
     "output_type": "stream",
     "text": [
      "Model: \"sequential_244\"\n",
      "_________________________________________________________________\n",
      " Layer (type)                Output Shape              Param #   \n",
      "=================================================================\n",
      " dense_1464 (Dense)          (None, 40)                360       \n",
      "                                                                 \n",
      " dense_1465 (Dense)          (None, 40)                1640      \n",
      "                                                                 \n",
      " dense_1466 (Dense)          (None, 40)                1640      \n",
      "                                                                 \n",
      " dense_1467 (Dense)          (None, 40)                1640      \n",
      "                                                                 \n",
      " dense_1468 (Dense)          (None, 40)                1640      \n",
      "                                                                 \n",
      " dense_1469 (Dense)          (None, 8)                 328       \n",
      "                                                                 \n",
      "=================================================================\n",
      "Total params: 7,248\n",
      "Trainable params: 0\n",
      "Non-trainable params: 7,248\n",
      "_________________________________________________________________\n"
     ]
    }
   ],
   "source": [
    "model_t1.summary()"
   ]
  },
  {
   "cell_type": "code",
   "execution_count": 102,
   "metadata": {},
   "outputs": [
    {
     "name": "stdout",
     "output_type": "stream",
     "text": [
      "Model: \"sequential_246\"\n",
      "_________________________________________________________________\n",
      " Layer (type)                Output Shape              Param #   \n",
      "=================================================================\n",
      " dense_1476 (Dense)          (None, 10)                30        \n",
      "                                                                 \n",
      " dense_1477 (Dense)          (None, 10)                110       \n",
      "                                                                 \n",
      " dense_1478 (Dense)          (None, 10)                110       \n",
      "                                                                 \n",
      " dense_1479 (Dense)          (None, 10)                110       \n",
      "                                                                 \n",
      " dense_1480 (Dense)          (None, 10)                110       \n",
      "                                                                 \n",
      " dense_1481 (Dense)          (None, 2)                 22        \n",
      "                                                                 \n",
      "=================================================================\n",
      "Total params: 492\n",
      "Trainable params: 0\n",
      "Non-trainable params: 492\n",
      "_________________________________________________________________\n"
     ]
    }
   ],
   "source": [
    "model_t3.summary()"
   ]
  },
  {
   "cell_type": "code",
   "execution_count": 103,
   "metadata": {},
   "outputs": [],
   "source": [
    "model_t1.layers[5].trainable = True\n",
    "model_t2.layers[5].trainable = True"
   ]
  },
  {
   "cell_type": "code",
   "execution_count": null,
   "metadata": {},
   "outputs": [],
   "source": [
    "trainX_gfe_given_d0, testX_gfe_given_d0, trainY_gfe_given_d0, testY_gfe_given_d0 = get_train_test_CI(x_gfe_given_d0, y_gfe_given_d0, n_train_data, random_state = random_state[0])\n",
    "trainX_gfe_given_d1, testX_gfe_given_d1, trainY_gfe_given_d1, testY_gfe_given_d1 = get_train_test_CI(x_gfe_given_d1, y_gfe_given_d1, n_train_data, random_state = random_state[0])\n",
    "\n",
    "# model_t1\n",
    "lr_schedule = keras.optimizers.schedules.ExponentialDecay(\n",
    "    initial_learning_rate = 0.0001,\n",
    "    decay_steps = 100000,\n",
    "    decay_rate = 0.96)\n",
    "adam = keras.optimizers.Adam(learning_rate=lr_schedule)\n",
    "model_t1.compile(loss='categorical_crossentropy', optimizer = adam, metrics=['accuracy'])\n",
    "history_1 = model_t1.fit(trainX_gfe_given_d0, trainY_gfe_given_d0, epochs = 300, batch_size = 16)\n",
    "\n",
    "miti_0.append(model_t1.predict(testX_gfe_given_d0))        \n",
    "\n",
    "\n",
    "# model_t2\n",
    "lr_schedule = keras.optimizers.schedules.ExponentialDecay(\n",
    "    initial_learning_rate = 0.0001,\n",
    "    decay_steps = 100000,\n",
    "    decay_rate = 0.96)\n",
    "adam = keras.optimizers.Adam(learning_rate=lr_schedule)\n",
    "model_t2.compile(loss='categorical_crossentropy', optimizer = adam, metrics=['accuracy'])\n",
    "history_1 = model_t2.fit(trainX_gfe_given_d1, trainY_gfe_given_d1, epochs = 300, batch_size = 16)\n",
    "\n",
    "miti_2.append(model_t2.predict(testX_gfe_given_d1))\n",
    "\n",
    "\n",
    "res_transfer = CI(miti_0, miti_1, miti_2, miti_3, miti_4)\n",
    "\n"
   ]
  },
  {
   "cell_type": "code",
   "execution_count": 105,
   "metadata": {},
   "outputs": [
    {
     "name": "stdout",
     "output_type": "stream",
     "text": [
      "38/38 [==============================] - 0s 3ms/step\n"
     ]
    }
   ],
   "source": [
    "miti_nn = train(trainX, trainY, testX, 7, train_szie[0])"
   ]
  },
  {
   "cell_type": "code",
   "execution_count": 106,
   "metadata": {},
   "outputs": [],
   "source": [
    "unmitigated_res_t = []\n",
    "LI_res_t = []\n",
    "NN_res_t = []\n",
    "CI_res_t =[]\n",
    "\n",
    "unmitigated_res_t.append(loss_function(testY.values, testX.values, n_qubits[0]))\n",
    "LI_res_t.append(loss_function(testY.values, test_LI_miti.values, n_qubits[0]))\n",
    "NN_res_t.append(loss_function(testY.values, miti_nn[0], n_qubits[0]))\n",
    "CI_res_t.append(loss_function(testY.values, res_transfer.values, n_qubits[0]))\n",
    "        "
   ]
  },
  {
   "cell_type": "code",
   "execution_count": 107,
   "metadata": {},
   "outputs": [],
   "source": [
    "def show_plot_2(topics, unmitigated, LI, NN, CI, type = 0, label = ['unmitigated', 'LI', 'NN', 'CI']):\n",
    "    n = 1  # This is our first dataset (out of 2)\n",
    "    t = 4 # Number of dataset\n",
    "    d = 1 # Number of sets of bars\n",
    "    w = 0.8 # Width of each bar\n",
    "\n",
    "    value_a_x = create_x(t, w, 1, d)\n",
    "    value_b_x = create_x(t, w, 2, d)\n",
    "    value_c_x = create_x(t, w, 3, d)\n",
    "    value_d_x = create_x(t, w, 4, d)\n",
    "\n",
    "    ax = plt.subplot()\n",
    "    x_1 = [unmitigated[0][type]]\n",
    "    x_2 = [LI[0][type]]\n",
    "    x_3 = [NN[0][type]]\n",
    "    x_4 = [CI[0][type]]\n",
    "\n",
    "    ax.bar(value_a_x, x_1, label = label[0], color = 'black')\n",
    "    ax.bar(value_b_x, x_2, label = label[1], color = 'white', edgecolor = 'black')\n",
    "    ax.bar(value_c_x, x_3, label = label[2], color = 'white', edgecolor = 'black', hatch = '/////')\n",
    "    ax.bar(value_d_x, x_4, label = label[3], color = 'white', edgecolor = 'black', hatch = '/////////')\n",
    "\n",
    "    #middle_x = [a for (a) in zip(value_a_x)]\n",
    "    ax.set_xticks([2])\n",
    "    ax.set_xticklabels(topics)\n",
    "    plt.legend()\n",
    "\n",
    "    img_name = ''\n",
    "    if type == 0:\n",
    "        plt.xlabel('(a) MSE')\n",
    "        img_name = 'MSE'\n",
    "    elif type == 1:\n",
    "        plt.xlabel('(b) KLD')\n",
    "        img_name = 'KLD'\n",
    "    else:\n",
    "        plt.xlabel('(c) IF')\n",
    "        img_name = 'IF'\n",
    "\n",
    "    plt.savefig('./img/'+ img_name +'.png')\n",
    "\n",
    "    plt.show()"
   ]
  },
  {
   "cell_type": "code",
   "execution_count": 108,
   "metadata": {},
   "outputs": [
    {
     "data": {
      "image/png": "[encoded data removed]",
      "text/plain": [
       "<Figure size 640x480 with 1 Axes>"
      ]
     },
     "metadata": {},
     "output_type": "display_data"
    }
   ],
   "source": [
    "topics = ['7qubit']\n",
    "label = ['unmitigated', 'LI', 'NN', 'CI + Transfer']\n",
    "show_plot_2(topics, unmitigated_res_t, LI_res_t, NN_res_t, CI_res_t, 0, label)"
   ]
  },
  {
   "cell_type": "code",
   "execution_count": 109,
   "metadata": {},
   "outputs": [
    {
     "data": {
      "image/png": "[encoded data removed]",
      "text/plain": [
       "<Figure size 640x480 with 1 Axes>"
      ]
     },
     "metadata": {},
     "output_type": "display_data"
    }
   ],
   "source": [
    "show_plot_2(topics, unmitigated_res_t, LI_res_t, NN_res_t, CI_res_t, 1, label)"
   ]
  },
  {
   "cell_type": "code",
   "execution_count": 110,
   "metadata": {},
   "outputs": [
    {
     "data": {
      "image/png": "[encoded data removed]",
      "text/plain": [
       "<Figure size 640x480 with 1 Axes>"
      ]
     },
     "metadata": {},
     "output_type": "display_data"
    }
   ],
   "source": [
    "show_plot_2(topics, unmitigated_res_t, LI_res_t, NN_res_t, CI_res_t, 2, label)"
   ]
  },
  {
   "cell_type": "code",
   "execution_count": 111,
   "metadata": {},
   "outputs": [
    {
     "name": "stdout",
     "output_type": "stream",
     "text": [
      "unmitigated :  [(1.623324336415186e-05, 0.03714788568184412, 0.02067808048085885)]\n",
      "LI :  [(3.118600685970454e-06, 0.01068434398795487, 0.007101566110561398)]\n",
      "NN :  [(2.2238476707592262e-06, 0.006375763836953471, 0.003339230913145842)]\n",
      "CI + transfer :  [(1.2175205093965958e-06, 0.0043560296873723725, 0.002326319536256549)]\n"
     ]
    }
   ],
   "source": [
    "\n",
    "print('unmitigated : ', unmitigated_res_t)\n",
    "print('LI : ', LI_res_t)\n",
    "print('NN : ', NN_res_t)\n",
    "print('CI + transfer : ', CI_res_t)"
   ]
  },
  {
   "cell_type": "code",
   "execution_count": null,
   "metadata": {},
   "outputs": [],
   "source": []
  }
 ],
 "metadata": {
  "kernelspec": {
   "display_name": "quantum",
   "language": "python",
   "name": "python3"
  },
  "language_info": {
   "codemirror_mode": {
    "name": "ipython",
    "version": 3
   },
   "file_extension": ".py",
   "mimetype": "text/x-python",
   "name": "python",
   "nbconvert_exporter": "python",
   "pygments_lexer": "ipython3",
   "version": "3.11.2"
  },
  "orig_nbformat": 4
 },
 "nbformat": 4,
 "nbformat_minor": 2
}
