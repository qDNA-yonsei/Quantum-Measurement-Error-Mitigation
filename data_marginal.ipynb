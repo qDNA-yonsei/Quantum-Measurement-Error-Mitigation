{
 "cells": [
  {
   "cell_type": "code",
   "execution_count": 1,
   "metadata": {},
   "outputs": [],
   "source": [
    "import numpy as np\n",
    "import pandas as pd\n",
    "import json\n",
    "import pickle\n",
    "import math\n",
    "\n",
    "from qiskit.visualization import plot_histogram \n",
    "pd.options.display.float_format = '{:,.15f}'.format"
   ]
  },
  {
   "cell_type": "code",
   "execution_count": 12,
   "metadata": {},
   "outputs": [],
   "source": [
    "# ex. # of partition, partition qubit ([[0,1], [2,3], [7,8], [9,10]]), condition qubit ([4,5,6])\n",
    "def my_marginal(data, p_q, c_q, qubits, device_type, wh):\n",
    "\n",
    "    total_partition = len(p_q)\n",
    "    reduced_q = len(p_q[0])\n",
    "    partition_q = len(c_q)\n",
    "    \n",
    "    ret_p = []\n",
    "    ret_c = []\n",
    "    ret_cp = [[] for i in range(partition_q) ]\n",
    "    for i in data.iterrows():\n",
    "\n",
    "        dic_p = [{} for i in range(total_partition)]\n",
    "        for l in range(total_partition):\n",
    "            for j in range(2 ** partition_q ):\n",
    "                bit = str(bin(j)[2:]).zfill(partition_q)\n",
    "                dic_p[l][bit] = {}\n",
    "                for k in range(2 ** len(p_q[l])):\n",
    "                    bit_2 = str(bin(k)[2:]).zfill(len(p_q[l]))\n",
    "                    dic_p[l][bit][bit_2] = 0\n",
    "        \n",
    "        dic_c = {}\n",
    "        for j in range(2 ** partition_q):\n",
    "            bit = str(bin(j)[2:]).zfill(partition_q)\n",
    "            dic_c[bit] = 0\n",
    "        \n",
    "        dic_cp = [{} for i in range(partition_q)]\n",
    "        for j in range(partition_q):\n",
    "            for k in range(2):\n",
    "                bit = str(bin(k)[2:]).zfill(1)\n",
    "                dic_cp[j][bit] = 0\n",
    "                   \n",
    "        for j, k in zip(i[1], range(len(i[1]))):\n",
    "            bit = str(bin(k)[2:]).zfill(qubits)   \n",
    "            selected_chars_c = [bit[qubits - 1 - m] for m in c_q]\n",
    "            new_string_c = ''.join(selected_chars_c)\n",
    "            \n",
    "            for l in range(total_partition):\n",
    "\n",
    "                selected_chars = [bit[qubits - 1 - m] for m in p_q[l]]\n",
    "                new_string = ''.join(selected_chars[::-1])\n",
    "                dic_p[l][new_string_c][new_string] += j\n",
    "                \n",
    "            for l in range(partition_q):\n",
    "                dic_cp[l][bit[qubits - 1 - c_q[l]]] += j\n",
    "\n",
    "            dic_c[new_string_c] += j            \n",
    "            \n",
    "        ret_p.append(dic_p)\n",
    "        ret_c.append(dic_c)\n",
    "        for j in range(partition_q):\n",
    "            ret_cp[j].append(dic_cp[j])\n",
    "        \n",
    "    a = [[] for i in range(total_partition * 2 ** partition_q) ]\n",
    "    for i in ret_p:\n",
    "        for j in range(len(i)):\n",
    "            for k in range(len(i[j])):\n",
    "                bit = str(bin(k)[2:]).zfill(partition_q)\n",
    "                a[k + j * (2 ** partition_q)].append(i[j][bit])\n",
    "                \n",
    "    res_c_df = pd.DataFrame(ret_c)\n",
    "    res_c_df.to_csv('./' + device_type + '/' + device_type + '_' + str(qubits) +  'qubits' + wh + 'D' + '.csv', index=False, header=True)\n",
    "    \n",
    "    for l in range(partition_q):\n",
    "        res_cp_df = pd.DataFrame(ret_cp[l])\n",
    "        res_cp_df.to_csv('./' + device_type + '/' + device_type + '_' + str(qubits) +  'qubits' + wh + 'D' + str(l) + '.csv', index=False, header=True)\n",
    "        \n",
    "    \n",
    "    for l in range(len(a)):\n",
    "        test_df = pd.DataFrame(a[l])\n",
    "        for i, j, k in zip(range(len(test_df)), test_df.iterrows(), res_c_df.iterrows()):\n",
    "            test_df.iloc[i] = j[1] / k[1].values[l % (2 ** partition_q)]\n",
    "        test_df.to_csv('./' + device_type + '/' + device_type + '_' + str(qubits) +  'qubits' + wh + str(l) + '.csv', index=False, header=True)\n",
    "\n",
    "    #return ret_p, ret_c, a \n",
    "    "
   ]
  },
  {
   "cell_type": "code",
   "execution_count": 8,
   "metadata": {},
   "outputs": [],
   "source": [
    "#n_qubits = [7]\n",
    "#n_data = 300\n",
    "#times = [39] # 11700, 39\n",
    "#device_type = 'ibm_lagos' \n",
    "#number = 0\n",
    "\n",
    "#n_qubits = [7]\n",
    "#n_data = 300\n",
    "#times = [34] # 10200, 34\n",
    "#device_type = 'ibmq_jakarta' \n",
    "#number = 0\n",
    "\n",
    "n_qubits = [13]\n",
    "n_data = 300 \n",
    "times = [20]\n",
    "device_type = 'ibmq_mumbai'\n",
    "number = 0\n"
   ]
  },
  {
   "cell_type": "code",
   "execution_count": 8,
   "metadata": {},
   "outputs": [],
   "source": [
    "X = pd.read_csv('./' + device_type + '/' + device_type + '_' + str(n_qubits[0]) +  'qubits_obs_' + str(number) + '.csv')\n",
    "Y = pd.read_csv('./' + device_type + '/' + device_type + '_' + str(n_qubits[0]) +  'qubits_ideal_' + str(number) + '.csv')\n",
    "LI = pd.read_csv('./' + device_type + '/' + device_type + '_' + str(n_qubits[0]) +  'qubits_miti_' + str(number) + '.csv')"
   ]
  },
  {
   "cell_type": "code",
   "execution_count": 9,
   "metadata": {},
   "outputs": [],
   "source": [
    "X = pd.read_csv('./' + device_type + '/' + device_type + '_' + str(n_qubits[0]) +  'qubits_obs_' + str(number) + '.csv')\n",
    "Y = pd.read_csv('./' + device_type + '/' + device_type + '_' + str(n_qubits[0]) +  'qubits_ideal_' + str(number) + '.csv')\n"
   ]
  },
  {
   "cell_type": "code",
   "execution_count": 28,
   "metadata": {},
   "outputs": [],
   "source": [
    "'''\n",
    "number = 7\n",
    "\n",
    "X2 = pd.read_csv('./' + device_type + '/' + device_type + '_' + str(n_qubits[0]) +  'qubits_obs_' + str(number) + '.csv')\n",
    "Y2 = pd.read_csv('./' + device_type + '/' + device_type + '_' + str(n_qubits[0]) +  'qubits_ideal_' + str(number) + '.csv')\n",
    "X_m = pd.concat([X, X2], ignore_index = True)\n",
    "Y_m = pd.concat([Y, Y2], ignore_index = True)\n",
    "X_m.to_csv(device_type + '_' + str(n_qubits[0]) +  'qubits_obs_' + str(99) + '.csv', index=False, header=True)\n",
    "Y_m.to_csv(device_type + '_' + str(n_qubits[0]) +  'qubits_ideal_' + str(99) + '.csv', index=False, header=True)\n",
    "'''"
   ]
  },
  {
   "cell_type": "code",
   "execution_count": 13,
   "metadata": {},
   "outputs": [],
   "source": [
    "# data, partition qubit, condition qubit, # of qubit, device, name\n",
    "my_marginal(X, [[0, 2, 3], [8, 11], [1, 4, 5], [10, 12]], [6, 7, 9], 13, device_type, '_obs_CI_')\n",
    "my_marginal(Y, [[0, 2, 3], [8, 11], [1, 4, 5], [10, 12]], [6, 7, 9], 13, device_type, '_ideal_CI_') "
   ]
  },
  {
   "cell_type": "code",
   "execution_count": null,
   "metadata": {},
   "outputs": [],
   "source": []
  },
  {
   "cell_type": "code",
   "execution_count": 9,
   "metadata": {},
   "outputs": [],
   "source": [
    "col = []\n",
    "for i in range(2**n_qubits[0]):\n",
    "    bit_i = str(bin(i)[2:]).zfill(n_qubits[0])\n",
    "    col.append(bit_i)\n",
    "    \n",
    "X.columns = col \n",
    "Y.columns = col\n",
    "LI.columns = col"
   ]
  },
  {
   "cell_type": "code",
   "execution_count": null,
   "metadata": {},
   "outputs": [],
   "source": [
    "# data, partition qubit, condition qubit, # of qubit, device, name\n",
    "my_marginal(X, [[0, 1, 2], [4, 5, 6]], [3], 7, device_type, '_obs_CI_')\n",
    "my_marginal(Y, [[0, 1, 2], [4, 5, 6]], [3], 7, device_type, '_ideal_CI_') "
   ]
  }
 ],
 "metadata": {
  "kernelspec": {
   "display_name": "quantum",
   "language": "python",
   "name": "python3"
  },
  "language_info": {
   "codemirror_mode": {
    "name": "ipython",
    "version": 3
   },
   "file_extension": ".py",
   "mimetype": "text/x-python",
   "name": "python",
   "nbconvert_exporter": "python",
   "pygments_lexer": "ipython3",
   "version": "3.11.2"
  },
  "orig_nbformat": 4
 },
 "nbformat": 4,
 "nbformat_minor": 2
}
