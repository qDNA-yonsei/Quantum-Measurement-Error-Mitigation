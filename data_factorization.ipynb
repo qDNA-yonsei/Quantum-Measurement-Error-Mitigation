{
 "cells": [
  {
   "cell_type": "code",
   "execution_count": 1,
   "metadata": {},
   "outputs": [],
   "source": [
    "import numpy as np\n",
    "import pandas as pd\n",
    "import json\n",
    "import pickle\n",
    "import math\n",
    "\n",
    "from qiskit.visualization import plot_histogram \n",
    "pd.options.display.float_format = '{:,.15f}'.format"
   ]
  },
  {
   "cell_type": "code",
   "execution_count": 2,
   "metadata": {},
   "outputs": [],
   "source": [
    "def make_dic(q):\n",
    "    dic_c = {}\n",
    "    for i in range(2 ** q):\n",
    "        bit = str(bin(i)[2:]).zfill(q)\n",
    "        dic_c[bit] = 0\n",
    "    return dic_c\n",
    "\n",
    "def fac(c, x, data, N):\n",
    "    condition = 2 ** len(c)\n",
    "    q = c + x\n",
    "    n_q = len(q)\n",
    "    \n",
    "    res = [[]for i in range(condition)]\n",
    "\n",
    "    for i in data.iterrows():\n",
    "        \n",
    "        dic_c = make_dic(n_q)\n",
    "        for j, k in zip(i[1], range(2**N)):\n",
    "            bit = str(bin(k)[2:]).zfill(N)\n",
    "            selected_chars = [bit[N - 1 - m] for m in q]\n",
    "            new_string = ''.join(selected_chars)\n",
    "            dic_c[new_string] += j\n",
    "            \n",
    "        dic_c2 = make_dic(len(c)) \n",
    "        for j, k in zip(i[1], range(2**N)):\n",
    "            bit = str(bin(k)[2:]).zfill(N)\n",
    "            selected_chars = [bit[N - 1 - m] for m in c]\n",
    "            new_string = ''.join(selected_chars)\n",
    "            dic_c2[new_string] += j\n",
    "        \n",
    "        \n",
    "        for j in range(condition):\n",
    "            bit = str(bin(j)[2:]).zfill(len(c))\n",
    "            dic_c3 = make_dic(len(x))  \n",
    "            \n",
    "            for k in range(2 ** len(x)):\n",
    "                bit_2 = str(bin(k)[2:]).zfill(len(x))\n",
    "                bit_3 = bit + bit_2\n",
    "                dic_c3[bit_2] += dic_c[bit_3] / dic_c2[bit]\n",
    "            res[j].append(dic_c3)\n",
    "    \n",
    "    return res\n",
    "\n",
    "def maragin(c, data, N, s, device_type):\n",
    "    condition = len(c)\n",
    "    res = [[]for i in range(condition)]\n",
    "    \n",
    "    for i in data.iterrows():\n",
    "        dic_s = []\n",
    "        for l in range(len(c)):\n",
    "            dic_s.append(make_dic(1))\n",
    "                \n",
    "        for j, k in zip(i[1], range(2**N)): \n",
    "                \n",
    "            for l in range(len(c)):\n",
    "                bit = str(bin(k)[2:]).zfill(N)\n",
    "                selected_chars = [bit[N - 1 - c[l]]]\n",
    "                new_string = ''.join(selected_chars)\n",
    "                dic_s[l][new_string] += j\n",
    "        for i in range(len(c)):\n",
    "            res[i].append(dic_s[i])\n",
    "\n",
    "    for i in range(len(c)):\n",
    "        res_c_df = pd.DataFrame(res[i])\n",
    "        res_c_df.to_csv('./' + device_type + '/' + device_type + '_' + str(N) +  'qubits_' + s + str(i) + 'C' + '.csv', index=False, header=True)\n",
    "                \n",
    "    return 0    \n",
    "\n",
    "\n",
    "def sub_parent(Y, x, c, r, h, level, i, N, s, device_type):\n",
    "    if h == level:\n",
    "        print(c, x[i], i) \n",
    "        res = fac(c, x[i], Y, 13)\n",
    "        for j in range(2**len(c)):\n",
    "            res_c_df = pd.DataFrame(res[j])\n",
    "            res_c_df.to_csv('./' + device_type + '/' + device_type + '_' + str(N) +  'qubits_' + s + str((2 ** len(c)) * (i - 2** len(c) + 1) + j) + 'D' + '.csv', index=False, header=True)\n",
    "    \n",
    "        return i + 1\n",
    "    c.append(x[r])\n",
    "    h += 1\n",
    "    i = sub_parent(Y, x, c, r * 2 + 1, h, level, i, N, s, device_type)\n",
    "    \n",
    "    i = sub_parent(Y, x, c, r * 2 + 2, h, level, i, N, s, device_type)\n",
    "    c.pop()\n",
    "\n",
    "    return i\n",
    "    "
   ]
  },
  {
   "cell_type": "code",
   "execution_count": 3,
   "metadata": {},
   "outputs": [],
   "source": [
    "#n_qubits = [7]\n",
    "#n_data = 300\n",
    "#times = [39] # 11700, 39\n",
    "#device_type = 'ibm_lagos' \n",
    "#number = 0\n",
    "\n",
    "#n_qubits = [7]\n",
    "#n_data = 300\n",
    "#times = [34] # 10200, 34\n",
    "#device_type = 'ibmq_jakarta' \n",
    "#number = 0\n",
    "\n",
    "n_qubits = [13]\n",
    "n_data = 300 \n",
    "times = [20]\n",
    "device_type = 'ibmq_mumbai'\n",
    "number = 0\n"
   ]
  },
  {
   "cell_type": "code",
   "execution_count": 8,
   "metadata": {},
   "outputs": [],
   "source": [
    "X = pd.read_csv('./' + device_type + '/' + device_type + '_' + str(n_qubits[0]) +  'qubits_obs_' + str(number) + '.csv')\n",
    "Y = pd.read_csv('./' + device_type + '/' + device_type + '_' + str(n_qubits[0]) +  'qubits_ideal_' + str(number) + '.csv')\n",
    "LI = pd.read_csv('./' + device_type + '/' + device_type + '_' + str(n_qubits[0]) +  'qubits_miti_' + str(number) + '.csv')"
   ]
  },
  {
   "cell_type": "code",
   "execution_count": 4,
   "metadata": {},
   "outputs": [],
   "source": [
    "X = pd.read_csv('./' + device_type + '/' + device_type + '_' + str(n_qubits[0]) +  'qubits_obs_' + str(number) + '.csv')\n",
    "Y = pd.read_csv('./' + device_type + '/' + device_type + '_' + str(n_qubits[0]) +  'qubits_ideal_' + str(number) + '.csv')\n"
   ]
  },
  {
   "cell_type": "code",
   "execution_count": null,
   "metadata": {},
   "outputs": [],
   "source": [
    "maragin([9, 6, 7], X, n_qubits[0], 'obs_', device_type)\n",
    "maragin([9, 6, 7], Y, n_qubits[0], 'ideal_', device_type)"
   ]
  },
  {
   "cell_type": "code",
   "execution_count": null,
   "metadata": {},
   "outputs": [],
   "source": [
    "tree = [9, 6, 7, [0, 2, 3], [8, 11], [1, 4, 5], [10, 12]]\n",
    "\n",
    "k = 2\n",
    "sub_parent(X, tree, [], 0, 0, k, 2**(k) - 1, n_qubits[0], 'obs_', device_type)\n",
    "sub_parent(Y, tree, [], 0, 0, k, 2**(k) - 1, n_qubits[0], 'ideal_', device_type)\n"
   ]
  },
  {
   "cell_type": "code",
   "execution_count": null,
   "metadata": {},
   "outputs": [],
   "source": []
  },
  {
   "cell_type": "code",
   "execution_count": null,
   "metadata": {},
   "outputs": [],
   "source": []
  },
  {
   "cell_type": "code",
   "execution_count": 60,
   "metadata": {},
   "outputs": [],
   "source": [
    "n_qubits = [7]\n",
    "n_data = 300\n",
    "times = [39] # 11700, 39\n",
    "device_type = 'ibm_lagos' \n",
    "number = 0\n"
   ]
  },
  {
   "cell_type": "code",
   "execution_count": 45,
   "metadata": {},
   "outputs": [],
   "source": [
    "X = pd.read_csv('./' + device_type + '/' + device_type + '_' + str(n_qubits[0]) +  'qubits_obs_' + str(number) + '.csv')\n",
    "Y = pd.read_csv('./' + device_type + '/' + device_type + '_' + str(n_qubits[0]) +  'qubits_ideal_' + str(number) + '.csv')\n"
   ]
  },
  {
   "cell_type": "code",
   "execution_count": 55,
   "metadata": {},
   "outputs": [
    {
     "data": {
      "text/plain": [
       "0"
      ]
     },
     "execution_count": 55,
     "metadata": {},
     "output_type": "execute_result"
    }
   ],
   "source": [
    "maragin([3], X, n_qubits[0], 'obs_', device_type)\n",
    "maragin([3], Y, n_qubits[0], 'ideal_', device_type)\n"
   ]
  },
  {
   "cell_type": "code",
   "execution_count": 80,
   "metadata": {},
   "outputs": [
    {
     "name": "stdout",
     "output_type": "stream",
     "text": [
      "[3] [0, 1, 2] 1\n",
      "[3] [4, 5, 6] 2\n"
     ]
    },
    {
     "data": {
      "text/plain": [
       "3"
      ]
     },
     "execution_count": 80,
     "metadata": {},
     "output_type": "execute_result"
    }
   ],
   "source": [
    "tree = [3, [0, 1, 2], [4, 5, 6]]\n",
    "k = 1\n",
    "sub_parent(X, tree, [], 0, 0, k, 2**(k) - 1, n_qubits[0], 'obs_', device_type)\n",
    "sub_parent(Y, tree, [], 0, 0, k, 2**(k) - 1, n_qubits[0], 'ideal_', device_type)\n",
    "\n",
    "    "
   ]
  }
 ],
 "metadata": {
  "kernelspec": {
   "display_name": "quantum",
   "language": "python",
   "name": "python3"
  },
  "language_info": {
   "codemirror_mode": {
    "name": "ipython",
    "version": 3
   },
   "file_extension": ".py",
   "mimetype": "text/x-python",
   "name": "python",
   "nbconvert_exporter": "python",
   "pygments_lexer": "ipython3",
   "version": "3.11.2"
  },
  "orig_nbformat": 4
 },
 "nbformat": 4,
 "nbformat_minor": 2
}
