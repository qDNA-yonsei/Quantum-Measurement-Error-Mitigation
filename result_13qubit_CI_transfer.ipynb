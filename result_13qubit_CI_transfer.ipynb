{
 "cells": [
  {
   "cell_type": "code",
   "execution_count": 1,
   "metadata": {},
   "outputs": [],
   "source": [
    "import numpy as np\n",
    "import pandas as pd\n",
    "import matplotlib.pyplot as plt\n",
    "import math\n",
    "import json\n",
    "import pickle\n",
    "\n",
    "from tensorflow import keras\n",
    "from keras import models, layers\n",
    "from keras.models import load_model\n",
    "\n",
    "from sklearn.model_selection import KFold\n",
    "from sklearn.metrics import accuracy_score\n",
    "from qiskit.visualization import plot_histogram \n",
    "import seaborn as sns\n",
    "from collections import defaultdict\n",
    "\n",
    "\n",
    "from tensorflow.keras import initializers\n",
    "from tensorflow.keras.layers import Dense, BatchNormalization\n",
    "from sklearn.preprocessing import StandardScaler\n"
   ]
  },
  {
   "cell_type": "code",
   "execution_count": 2,
   "metadata": {},
   "outputs": [],
   "source": [
    "def NN_model(n_qubit, n_hidden_layer = 4, n_nodes = 5, activation = 'relu', d = 0.0):\n",
    "    model = models.Sequential()\n",
    "    model.add(layers.Dense(n_nodes * (2 ** n_qubit), activation = activation, kernel_initializer= keras.initializers.lecun_normal, input_shape = (2 ** n_qubit, )))\n",
    "\n",
    "    for i in range(n_hidden_layer):\n",
    "        model.add(layers.Dense(n_nodes * (2 ** n_qubit), activation = activation, kernel_initializer= keras.initializers.lecun_normal))\n",
    "        #model.add(layers.Dropout(d))\n",
    "            \n",
    "    model.add(layers.Dense(2 ** n_qubit, activation = 'softmax'))\n",
    "    \n",
    "    return model\n",
    "\n",
    "def loss_function(p_ideal, p_mitigated, n_qubit):\n",
    "    MSE = 0\n",
    "    for i in range(len(p_mitigated)):\n",
    "        x = 0\n",
    "        for j in range(2**n_qubit):\n",
    "             x += (abs(p_mitigated[i][j] - p_ideal[i][j]) ** 2)\n",
    "        x /= 2**n_qubit\n",
    "        MSE += x\n",
    "    MSE /= len(p_mitigated)\n",
    "\n",
    "    KLD = 0\n",
    "    for i in range(len(p_mitigated)):\n",
    "        x = 0\n",
    "        for j in range(2**n_qubit):\n",
    "            if p_ideal[i][j] < 1e-15 or p_mitigated[i][j] < 1e-15:\n",
    "                x += 0\n",
    "            else:\n",
    "                x += p_ideal[i][j] * (math.log(p_ideal[i][j]) - math.log(p_mitigated[i][j]))\n",
    "        KLD += x\n",
    "    KLD /= len(p_mitigated)\n",
    "    \n",
    "    IF = 0\n",
    "    for i in range(len(p_mitigated)):\n",
    "        x = 0\n",
    "        for j in range(2**n_qubit):\n",
    "            x += math.sqrt(p_ideal[i][j] * p_mitigated[i][j])\n",
    "        IF += (1 - x**2)\n",
    "    IF /= len(p_mitigated)\n",
    "\n",
    "    return MSE, KLD, IF\n"
   ]
  },
  {
   "cell_type": "code",
   "execution_count": 3,
   "metadata": {},
   "outputs": [],
   "source": [
    "def get_train_test(x, y, mit, n_data, random_state = 0):\n",
    "    train_x = x.sample(n_data, random_state = random_state)\n",
    "    test_x = x.drop(train_x.index)\n",
    "\n",
    "    train_y = y.sample(n_data, random_state = random_state)\n",
    "    test_y = y.drop(train_y.index)\n",
    "\n",
    "    train_miti= mit.sample(n_data, random_state = random_state)\n",
    "    test_miti = mit.drop(train_miti.index)\n",
    "\n",
    "    train_x.reset_index(drop = True, inplace = True)\n",
    "    test_x.reset_index(drop = True, inplace = True)\n",
    "    train_y.reset_index(drop = True, inplace = True)\n",
    "    test_y.reset_index(drop = True, inplace = True)\n",
    "    train_miti.reset_index(drop = True, inplace = True)\n",
    "    test_miti.reset_index(drop = True, inplace = True)\n",
    "\n",
    "    return train_x, test_x, train_y, test_y, train_miti, test_miti\n",
    "\n",
    "def get_train_test_CI(x, y, n_data, random_state = 0):\n",
    "    train_x = x.sample(n_data, random_state = random_state)\n",
    "    test_x = x.drop(train_x.index)\n",
    "\n",
    "    train_y = y.sample(n_data, random_state = random_state)\n",
    "    test_y = y.drop(train_y.index)\n",
    "\n",
    "    train_x.reset_index(drop = True, inplace = True)\n",
    "    test_x.reset_index(drop = True, inplace = True)\n",
    "    train_y.reset_index(drop = True, inplace = True)\n",
    "    test_y.reset_index(drop = True, inplace = True)\n",
    "    \n",
    "    return train_x, test_x, train_y, test_y \n",
    "\n",
    "def create_x(t, w, n, d):\n",
    "    return [t * x + w * n for x in range(d)]\n",
    "\n",
    "def show_plot(topics, unmitigated, LI, NN, type = 0, label = ['unmitigated', 'LI', 'NN']):\n",
    "    n = 1  # This is our first dataset (out of 2)\n",
    "    t = 3 # Number of dataset\n",
    "    d = 1 # Number of sets of bars\n",
    "    w = 0.8 # Width of each bar\n",
    "\n",
    "    value_a_x = create_x(t, w, 1, d)\n",
    "    value_b_x = create_x(t, w, 2, d)\n",
    "    value_c_x = create_x(t, w, 3, d)\n",
    "\n",
    "    ax = plt.subplot()\n",
    "    x_1 = [unmitigated[0][type]]\n",
    "    x_2 = [LI[0][type]]\n",
    "    x_3 = [NN[0][type]]\n",
    "    ax.bar(value_a_x, x_1, label = label[0], color = 'black')\n",
    "    ax.bar(value_b_x, x_2, label = label[1], color = 'white', edgecolor = 'black')\n",
    "    ax.bar(value_c_x, x_3, label = label[2], color = 'white', edgecolor = 'black', hatch = '/////')\n",
    "\n",
    "    #middle_x = [a for (a) in zip(value_a_x)]\n",
    "    ax.set_xticks(value_b_x)\n",
    "    ax.set_xticklabels(topics)\n",
    "    plt.legend()\n",
    "\n",
    "    img_name = ''\n",
    "    if type == 0:\n",
    "        plt.xlabel('(a) MSE')\n",
    "        img_name = 'MSE'\n",
    "    elif type == 1:\n",
    "        plt.xlabel('(b) KLD')\n",
    "        img_name = 'KLD'\n",
    "    else:\n",
    "        plt.xlabel('(c) IF')\n",
    "        img_name = 'IF'\n",
    "\n",
    "    plt.savefig('./img/'+ img_name +'.png')\n",
    "\n",
    "    plt.show()\n"
   ]
  },
  {
   "cell_type": "code",
   "execution_count": 11,
   "metadata": {},
   "outputs": [],
   "source": [
    "def CI(miti):\n",
    "    columns = []\n",
    "    columns_1 = []\n",
    "    columns_2 = []\n",
    "    \n",
    "    for i in range(2**3):\n",
    "        bit_i = str(bin(i)[2:]).zfill(3)\n",
    "        columns.append(bit_i)\n",
    "        \n",
    "    for i in range(2**2):\n",
    "        bit_i = str(bin(i)[2:]).zfill(2)\n",
    "        columns_1.append(bit_i)\n",
    "        \n",
    "    for i in range(2):\n",
    "        bit_i = str(bin(i)[2:]).zfill(1)\n",
    "        columns_2.append(bit_i)\n",
    "    \n",
    "    miti_df = []\n",
    "    for i in range(8):\n",
    "        miti_df.append(pd.DataFrame(miti[i][0], columns = columns))\n",
    "    for i in range(8, 16):\n",
    "        miti_df.append(pd.DataFrame(miti[i][0], columns = columns_1))\n",
    "    for i in range(16, 24):\n",
    "        miti_df.append(pd.DataFrame(miti[i][0], columns = columns))\n",
    "    for i in range(24, 32):\n",
    "        miti_df.append(pd.DataFrame(miti[i][0], columns = columns_1))\n",
    "    \n",
    "    for i in range(32, 32 + 3):\n",
    "        miti_df.append(pd.DataFrame(miti[i][0], columns = columns_2))\n",
    "\n",
    "    for i in range(35):\n",
    "        miti_df[i] = miti_df[i].to_dict('records')\n",
    "\n",
    "\n",
    "    CI_res = []\n",
    "    for k in range(len(miti_df[0][0])):\n",
    "        prob = {}\n",
    "        for i in range(2**3):\n",
    "            bit_i = str(bin(i)[2:]).zfill(3)\n",
    "            \n",
    "            for j in range(2**2):\n",
    "                bit_j = str(bin(j)[2:]).zfill(2)\n",
    "\n",
    "                for l in range(2**3):\n",
    "                    bit_l = str(bin(l)[2:]).zfill(3)\n",
    "\n",
    "                    for m in range(2**2):\n",
    "                        bit_m = str(bin(m)[2:]).zfill(2)\n",
    "                        prob[bit_m[0] + bit_j[0] + bit_m[1] + '0' + bit_j[1] + '00' + bit_l[0] + bit_l[1] + bit_i[0] + bit_i[1] + bit_l[2] + bit_i[2]] = miti_df[0][k][bit_i] * miti_df[8][k][bit_j]  * miti_df[16][k][bit_l]  * miti_df[24][k][bit_m]  * miti_df[32][k]['0'] * miti_df[33][k]['0'] * miti_df[34][k]['0']\n",
    "                        prob[bit_m[0] + bit_j[0] + bit_m[1] + '1' + bit_j[1] + '00' + bit_l[0] + bit_l[1] + bit_i[0] + bit_i[1] + bit_l[2] + bit_i[2]] = miti_df[1][k][bit_i] * miti_df[9][k][bit_j]  * miti_df[17][k][bit_l]  * miti_df[25][k][bit_m]  * miti_df[32][k]['0'] * miti_df[33][k]['0'] * miti_df[34][k]['1']\n",
    "                        prob[bit_m[0] + bit_j[0] + bit_m[1] + '0' + bit_j[1] + '10' + bit_l[0] + bit_l[1] + bit_i[0] + bit_i[1] + bit_l[2] + bit_i[2]] = miti_df[2][k][bit_i] * miti_df[10][k][bit_j]  * miti_df[18][k][bit_l]  * miti_df[26][k][bit_m] * miti_df[32][k]['0'] * miti_df[33][k]['1'] * miti_df[34][k]['0']\n",
    "                        prob[bit_m[0] + bit_j[0] + bit_m[1] + '1' + bit_j[1] + '10' + bit_l[0] + bit_l[1] + bit_i[0] + bit_i[1] + bit_l[2] + bit_i[2]] = miti_df[3][k][bit_i] * miti_df[11][k][bit_j]  * miti_df[19][k][bit_l]  * miti_df[27][k][bit_m] * miti_df[32][k]['0'] * miti_df[33][k]['1'] * miti_df[34][k]['1']\n",
    "                        prob[bit_m[0] + bit_j[0] + bit_m[1] + '0' + bit_j[1] + '01' + bit_l[0] + bit_l[1] + bit_i[0] + bit_i[1] + bit_l[2] + bit_i[2]] = miti_df[4][k][bit_i] * miti_df[12][k][bit_j]  * miti_df[20][k][bit_l]  * miti_df[28][k][bit_m] * miti_df[32][k]['1'] * miti_df[33][k]['0'] * miti_df[34][k]['0']\n",
    "                        prob[bit_m[0] + bit_j[0] + bit_m[1] + '1' + bit_j[1] + '01' + bit_l[0] + bit_l[1] + bit_i[0] + bit_i[1] + bit_l[2] + bit_i[2]] = miti_df[5][k][bit_i] * miti_df[13][k][bit_j]  * miti_df[21][k][bit_l]  * miti_df[29][k][bit_m] * miti_df[32][k]['1'] * miti_df[33][k]['0'] * miti_df[34][k]['1']\n",
    "                        prob[bit_m[0] + bit_j[0] + bit_m[1] + '0' + bit_j[1] + '11' + bit_l[0] + bit_l[1] + bit_i[0] + bit_i[1] + bit_l[2] + bit_i[2]] = miti_df[6][k][bit_i] * miti_df[14][k][bit_j]  * miti_df[22][k][bit_l]  * miti_df[30][k][bit_m] * miti_df[32][k]['1'] * miti_df[33][k]['1'] * miti_df[34][k]['0']\n",
    "                        prob[bit_m[0] + bit_j[0] + bit_m[1] + '1' + bit_j[1] + '11' + bit_l[0] + bit_l[1] + bit_i[0] + bit_i[1] + bit_l[2] + bit_i[2]] = miti_df[7][k][bit_i] * miti_df[15][k][bit_j]  * miti_df[23][k][bit_l]  * miti_df[31][k][bit_m] * miti_df[32][k]['1'] * miti_df[33][k]['1'] * miti_df[34][k]['1']\n",
    "        CI_res.append(prob)\n",
    "\n",
    "    res = pd.DataFrame(CI_res)\n",
    "    res = res.sort_index(axis = 1)\n",
    "    return res\n"
   ]
  },
  {
   "cell_type": "code",
   "execution_count": 5,
   "metadata": {},
   "outputs": [],
   "source": [
    "def train(trainX, trainY, testX, qubit, sz):\n",
    "    miti = []\n",
    "\n",
    "    model = NN_model(n_qubit = qubit, n_hidden_layer = 4, n_nodes = 5, activation = 'selu')\n",
    "    lr_schedule = keras.optimizers.schedules.ExponentialDecay(\n",
    "        initial_learning_rate = 0.0001,\n",
    "        decay_steps = 100000,\n",
    "        decay_rate = 0.96)\n",
    "    adam = keras.optimizers.Adam(learning_rate = lr_schedule)\n",
    "    model.compile(loss='categorical_crossentropy', optimizer = adam, metrics = ['accuracy'])\n",
    "    model.fit(trainX[ : sz], trainY[ : sz], epochs = 300, batch_size = 16, verbose = 0)\n",
    "\n",
    "    miti.append(model.predict(testX))\n",
    "    return miti"
   ]
  },
  {
   "cell_type": "code",
   "execution_count": 6,
   "metadata": {},
   "outputs": [],
   "source": [
    "def make_mean_std(res, size):\n",
    "    t = [[] for i in range(size)]\n",
    "\n",
    "    for i in res:\n",
    "        for j in range(size):\n",
    "            t[j].append(i[j][2])\n",
    "\n",
    "    mean_res = []\n",
    "    std_res = []    \n",
    "    for i in t:\n",
    "        mean_res.append(np.mean(i))\n",
    "        std_res.append(np.std(i))\n",
    "        \n",
    "    return mean_res, std_res\n",
    "        "
   ]
  },
  {
   "cell_type": "code",
   "execution_count": 47,
   "metadata": {},
   "outputs": [],
   "source": [
    "n_qubits = [13]\n",
    "n_data = 300 \n",
    "times = [20]\n",
    "device_type = 'ibmq_mumbai'\n",
    "number = 0\n"
   ]
  },
  {
   "cell_type": "code",
   "execution_count": 48,
   "metadata": {},
   "outputs": [],
   "source": [
    "X = pd.read_csv('./' + device_type + '/' + device_type + '_' + str(n_qubits[0]) +  'qubits_obs_' + str(number) + '.csv')\n",
    "Y = pd.read_csv('./' + device_type + '/' + device_type + '_' + str(n_qubits[0]) +  'qubits_ideal_' + str(number) + '.csv')"
   ]
  },
  {
   "cell_type": "code",
   "execution_count": 49,
   "metadata": {},
   "outputs": [
    {
     "data": {
      "text/plain": [
       "'\\ncol = []\\nfor i in range(2**n_qubits[0]):\\n    bit_i = str(bin(i)[2:]).zfill(n_qubits[0])\\n    col.append(bit_i)\\n    \\nX.columns = col \\nY.columns = col \\n'"
      ]
     },
     "execution_count": 49,
     "metadata": {},
     "output_type": "execute_result"
    }
   ],
   "source": [
    "'''\n",
    "col = []\n",
    "for i in range(2**n_qubits[0]):\n",
    "    bit_i = str(bin(i)[2:]).zfill(n_qubits[0])\n",
    "    col.append(bit_i)\n",
    "    \n",
    "X.columns = col \n",
    "Y.columns = col \n",
    "'''"
   ]
  },
  {
   "cell_type": "code",
   "execution_count": 50,
   "metadata": {},
   "outputs": [],
   "source": [
    "X_CI = []\n",
    "Y_CI = []\n",
    "\n",
    "p_q = [[0, 2, 3], [8, 11], [1, 4, 5], [10, 12]]\n",
    "c_q = [6, 7, 9]\n",
    "\n",
    "total_partition = len(p_q)\n",
    "partition_q = len(c_q)\n",
    "    \n",
    "for i in range(total_partition * 2 ** partition_q):\n",
    "    X_CI.append(pd.read_csv('./' + device_type + '/' + device_type + '_' + str(n_qubits[0]) +  'qubits' + '_obs_CI_' + str(i) + '.csv'))\n",
    "    Y_CI.append(pd.read_csv('./' + device_type + '/' + device_type + '_' + str(n_qubits[0]) +  'qubits' + '_ideal_CI_' + str(i) + '.csv') )\n",
    "\n",
    "X_d = []\n",
    "Y_d = []\n",
    "for i in range(partition_q):  \n",
    "    X_d.append(pd.read_csv('./' + device_type + '/' + device_type + '_' + str(n_qubits[0]) +  'qubits' + '_obs_CI_' + 'D' + str(i) + '.csv'))\n",
    "    Y_d.append(pd.read_csv('./' + device_type + '/' + device_type + '_' + str(n_qubits[0]) +  'qubits' + '_ideal_CI_' + 'D' + str(i) + '.csv'))"
   ]
  },
  {
   "cell_type": "code",
   "execution_count": null,
   "metadata": {},
   "outputs": [],
   "source": [
    "n_train_data = 5000 # 11700, 10200 -> 9000개 고정 ->test : 2700, 1200\n",
    "#random_state = [56, 1, 14, 44, 71]\n",
    "#train_size = [100, 500, 1000, 2000, 3000, 5000, 7000, 9000]\n",
    "random_state = [1]\n",
    "train_size = [5000]\n",
    "\n",
    "unmitigated_res = []\n",
    "LI_res = []\n",
    "NN_res = []\n",
    "CI_res = []\n",
    "\n",
    "for i in random_state:\n",
    "    trainX, testX, trainY, testY  = get_train_test_CI(X, Y, n_train_data, random_state = i)\n",
    "\n",
    "    trainX_CI = [0 for i in range(total_partition * 2 ** partition_q)]\n",
    "    testX_CI = [0 for i in range(total_partition * 2 ** partition_q)]\n",
    "    trainY_CI = [0 for i in range(total_partition * 2 ** partition_q)]\n",
    "    testY_CI = [0 for i in range(total_partition * 2 ** partition_q)]\n",
    "\n",
    "    trainX_d = [0 for i in range(partition_q)]\n",
    "    testX_d = [0 for i in range(partition_q)]\n",
    "    trainY_d = [0 for i in range(partition_q)]\n",
    "    testY_d = [0 for i in range(partition_q)]\n",
    "    \n",
    "    for j in range(total_partition * 2 ** partition_q):\n",
    "        trainX_CI[j], testX_CI[j], trainY_CI[j], testY_CI[j] = get_train_test_CI(X_CI[j], Y_CI[j], n_train_data, random_state = i)\n",
    "\n",
    "    for j in range(partition_q):  \n",
    "        trainX_d[j], testX_d[j], trainY_d[j], testY_d[j] = get_train_test_CI(X_d[j], Y_d[j], n_train_data, random_state = i)\n",
    "    \n",
    "    unmitigated_p = []\n",
    "    LI_res_p = []\n",
    "    NN_res_p = []\n",
    "    CI_res_p = []\n",
    "        \n",
    "    for j in train_size:\n",
    "        miti = []\n",
    "        #miti = train(trainX, trainY, testX, 7, j)\n",
    "        \n",
    "        for k in range(total_partition * 2 ** partition_q):\n",
    "            miti.append(train(trainX_CI[k], trainY_CI[k], testX_CI[k], len(p_q[int(k / (2**partition_q))]), j))\n",
    "        \n",
    "        for k in range(partition_q):\n",
    "            miti.append(train(trainX_d[k], trainY_d[k], testX_d[k], 1, j))\n",
    "           \n",
    "        res = CI(miti)\n",
    "        \n",
    "        unmitigated_p.append(loss_function(testY.values, testX.values, n_qubits[0]))\n",
    "        #LI_res_p.append(loss_function(testY.values, test_LI_miti.values, n_qubits[0]))\n",
    "        #NN_res_p.append(loss_function(testY.values, miti[0], n_qubits[0]))\n",
    "        CI_res_p.append(loss_function(testY.values, res.values, n_qubits[0]))\n",
    "\n",
    "        \n",
    "    unmitigated_res.append(unmitigated_p)\n",
    "    #LI_res.append(LI_res_p)\n",
    "    #NN_res.append(NN_res_p)\n",
    "    CI_res.append(CI_res_p)\n",
    "        "
   ]
  },
  {
   "cell_type": "code",
   "execution_count": 52,
   "metadata": {},
   "outputs": [
    {
     "name": "stderr",
     "output_type": "stream",
     "text": [
      "c:\\Users\\User\\anaconda3\\envs\\quantum\\Lib\\site-packages\\numpy\\core\\fromnumeric.py:3432: RuntimeWarning: Mean of empty slice.\n",
      "  return _methods._mean(a, axis=axis, dtype=dtype,\n",
      "c:\\Users\\User\\anaconda3\\envs\\quantum\\Lib\\site-packages\\numpy\\core\\_methods.py:190: RuntimeWarning: invalid value encountered in double_scalars\n",
      "  ret = ret.dtype.type(ret / rcount)\n",
      "c:\\Users\\User\\anaconda3\\envs\\quantum\\Lib\\site-packages\\numpy\\core\\_methods.py:265: RuntimeWarning: Degrees of freedom <= 0 for slice\n",
      "  ret = _var(a, axis=axis, dtype=dtype, out=out, ddof=ddof,\n",
      "c:\\Users\\User\\anaconda3\\envs\\quantum\\Lib\\site-packages\\numpy\\core\\_methods.py:223: RuntimeWarning: invalid value encountered in divide\n",
      "  arrmean = um.true_divide(arrmean, div, out=arrmean, casting='unsafe',\n",
      "c:\\Users\\User\\anaconda3\\envs\\quantum\\Lib\\site-packages\\numpy\\core\\_methods.py:257: RuntimeWarning: invalid value encountered in double_scalars\n",
      "  ret = ret.dtype.type(ret / rcount)\n"
     ]
    }
   ],
   "source": [
    "mean_unmiti, std_unmiti = make_mean_std(unmitigated_res, len(train_size))\n",
    "mean_LI, std_LI = make_mean_std(LI_res, len(train_size))\n",
    "mean_NN, std_NN = make_mean_std(NN_res, len(train_size))\n",
    "mean_NN_CI, std_NN_CI = make_mean_std(CI_res, len(train_size))\n",
    "#mean_NN_CI2, std_NN_CI2 = make_mean_std(CI_res_2, len(train_size))\n"
   ]
  },
  {
   "cell_type": "code",
   "execution_count": 53,
   "metadata": {},
   "outputs": [
    {
     "name": "stdout",
     "output_type": "stream",
     "text": [
      "unmitigated_res mean :  [0.04756922596085118]  std :  [0.0]\n",
      "LI_res mean :  [nan]  std :  [nan]\n",
      "NN_res mean :  [nan]  std :  [nan]\n",
      "NN_res_CI mean :  [0.0037716294582448018]  std :  [0.0]\n"
     ]
    }
   ],
   "source": [
    "print(\"unmitigated_res mean : \", mean_unmiti, ' std : ', std_unmiti)\n",
    "print(\"LI_res mean : \", mean_LI, ' std : ', std_LI)\n",
    "print(\"NN_res mean : \", mean_NN, ' std : ', std_NN)\n",
    "print(\"NN_res_CI mean : \", mean_NN_CI, ' std : ', std_NN_CI)\n",
    "#print(\"NN_res_CI mean : \", mean_NN_CI2, ' std : ', std_NN_CI2)"
   ]
  },
  {
   "cell_type": "code",
   "execution_count": 54,
   "metadata": {},
   "outputs": [
    {
     "name": "stdout",
     "output_type": "stream",
     "text": [
      "unmitigated_res :  [[(4.3697712657477495e-08, 0.06980971526587004, 0.04756922596085118)]]\n",
      "CI_res :  [[(2.7505926305836963e-09, 0.007107474595787498, 0.0037716294582448018)]]\n"
     ]
    }
   ],
   "source": [
    "print(\"unmitigated_res : \", unmitigated_res)\n",
    "print(\"CI_res : \", CI_res)\n"
   ]
  },
  {
   "cell_type": "code",
   "execution_count": 55,
   "metadata": {},
   "outputs": [
    {
     "data": {
      "text/plain": [
       "<matplotlib.legend.Legend at 0x1a2e97dd550>"
      ]
     },
     "execution_count": 55,
     "metadata": {},
     "output_type": "execute_result"
    },
    {
     "data": {
      "image/png": "[encoded data removed]",
      "text/plain": [
       "<Figure size 640x480 with 1 Axes>"
      ]
     },
     "metadata": {},
     "output_type": "display_data"
    }
   ],
   "source": [
    "plt.errorbar(train_size, mean_unmiti, yerr = std_unmiti, capsize = 2, label = 'unmitigated_res')\n",
    "#plt.errorbar(train_size, mean_LI, yerr = std_LI, capsize = 2, label = 'LI_res')\n",
    "#plt.errorbar(train_size, mean_NN, yerr = std_NN, capsize = 2, label = 'NN_res (batch size = 16)')\n",
    "plt.errorbar(train_size, mean_NN_CI, yerr = std_NN_CI, capsize = 2, label = 'CI_res (batch size = 16)')\n",
    "plt.legend()"
   ]
  },
  {
   "cell_type": "code",
   "execution_count": 56,
   "metadata": {},
   "outputs": [],
   "source": [
    "def show_plot_3(topics, unmitigated, CI, type = 0, label = ['unmitigated', 'CI']):\n",
    "    n = 1  # This is our first dataset (out of 2)\n",
    "    t = 2 # Number of dataset\n",
    "    d = 1 # Number of sets of bars\n",
    "    w = 0.8 # Width of each bar\n",
    "\n",
    "    value_a_x = create_x(t, w, 1, d)\n",
    "    value_b_x = create_x(t, w, 2, d) \n",
    "\n",
    "    ax = plt.subplot()\n",
    "    x_1 = [unmitigated[0][type]]\n",
    "    x_2 = [CI[0][type]] \n",
    "\n",
    "    ax.bar(value_a_x, x_1, label = label[0], color = 'black')\n",
    "    ax.bar(value_b_x, x_2, label = label[1], color = 'white', edgecolor = 'black') \n",
    "\n",
    "    #middle_x = [a for (a) in zip(value_a_x)]\n",
    "    ax.set_xticks([1.2])\n",
    "    ax.set_xticklabels(topics)\n",
    "    plt.legend()\n",
    "\n",
    "    img_name = ''\n",
    "    if type == 0:\n",
    "        plt.xlabel('(a) MSE')\n",
    "        img_name = 'MSE'\n",
    "    elif type == 1:\n",
    "        plt.xlabel('(b) KLD')\n",
    "        img_name = 'KLD'\n",
    "    else:\n",
    "        plt.xlabel('(c) IF')\n",
    "        img_name = 'IF'\n",
    "\n",
    "    plt.savefig('./img/'+ img_name +'.png')\n",
    "\n",
    "    plt.show()"
   ]
  },
  {
   "cell_type": "code",
   "execution_count": 57,
   "metadata": {},
   "outputs": [
    {
     "data": {
      "image/png": "[encoded data removed]",
      "text/plain": [
       "<Figure size 640x480 with 1 Axes>"
      ]
     },
     "metadata": {},
     "output_type": "display_data"
    }
   ],
   "source": [
    "topics = ['13qubit']\n",
    "label = ['unmitigated', 'CI ']\n",
    "show_plot_3(topics, unmitigated_res[0], CI_res[0], 0, label)"
   ]
  },
  {
   "cell_type": "code",
   "execution_count": 58,
   "metadata": {},
   "outputs": [
    {
     "data": {
      "image/png": "[encoded data removed]",
      "text/plain": [
       "<Figure size 640x480 with 1 Axes>"
      ]
     },
     "metadata": {},
     "output_type": "display_data"
    }
   ],
   "source": [
    "show_plot_3(topics, unmitigated_res[0], CI_res[0], 1, label)"
   ]
  },
  {
   "cell_type": "code",
   "execution_count": 59,
   "metadata": {},
   "outputs": [
    {
     "data": {
      "image/png": "[encoded data removed]",
      "text/plain": [
       "<Figure size 640x480 with 1 Axes>"
      ]
     },
     "metadata": {},
     "output_type": "display_data"
    }
   ],
   "source": [
    "show_plot_3(topics, unmitigated_res[0], CI_res[0], 2, label)"
   ]
  },
  {
   "cell_type": "code",
   "execution_count": null,
   "metadata": {},
   "outputs": [],
   "source": []
  },
  {
   "cell_type": "code",
   "execution_count": null,
   "metadata": {},
   "outputs": [],
   "source": []
  },
  {
   "attachments": {},
   "cell_type": "markdown",
   "metadata": {},
   "source": [
    "# transfer"
   ]
  },
  {
   "cell_type": "code",
   "execution_count": 30,
   "metadata": {},
   "outputs": [],
   "source": [
    "def train_save(trainX, trainY, testX, qubit, sz, device_type, cd):\n",
    "    miti = []\n",
    "    \n",
    "    model = NN_model(n_qubit = qubit, n_hidden_layer = 4, n_nodes = 5, activation = 'selu')\n",
    "    lr_schedule = keras.optimizers.schedules.ExponentialDecay(\n",
    "        initial_learning_rate = 0.0001,\n",
    "        decay_steps = 100000,\n",
    "        decay_rate = 0.96)\n",
    "    adam = keras.optimizers.Adam(learning_rate = lr_schedule)\n",
    "    model.compile(loss='categorical_crossentropy', optimizer = adam, metrics = ['accuracy'])\n",
    "    model.fit(trainX[ : sz], trainY[ : sz], epochs = 300, batch_size = 16, verbose = 0)\n",
    "    f = './' + device_type + '/' + device_type + '_' + str(qubit) + 'qubits' + cd +' model.h5'\n",
    "    model.save(f)\n",
    "    \n",
    "    miti.append(model.predict(testX))\n",
    "    return miti\n",
    "\n",
    "def train_transfer(model_t, trainX, trainY, testX, qubit, sz):\n",
    "    # model_t\n",
    "    miti = []\n",
    "    lr_schedule = keras.optimizers.schedules.ExponentialDecay(\n",
    "        initial_learning_rate = 0.0001,\n",
    "        decay_steps = 100000,\n",
    "        decay_rate = 0.96)\n",
    "    adam = keras.optimizers.Adam(learning_rate = lr_schedule)\n",
    "    model_t.compile(loss='categorical_crossentropy', optimizer = adam, metrics = ['accuracy'])\n",
    "    model_t.fit(trainX[ : sz], trainY[ : sz], epochs = 300, batch_size = 16, verbose = 0)\n",
    "\n",
    "    miti.append(model_t.predict(testX))\n",
    "    return miti  \n"
   ]
  },
  {
   "cell_type": "code",
   "execution_count": 60,
   "metadata": {},
   "outputs": [],
   "source": [
    "n_qubits = [13]\n",
    "n_data = 300 \n",
    "times = [20]\n",
    "device_type = 'ibmq_mumbai'\n",
    "number = 0\n"
   ]
  },
  {
   "cell_type": "code",
   "execution_count": 61,
   "metadata": {},
   "outputs": [],
   "source": [
    "X = pd.read_csv('./' + device_type + '/' + device_type + '_' + str(n_qubits[0]) +  'qubits_obs_' + str(number) + '.csv')\n",
    "Y = pd.read_csv('./' + device_type + '/' + device_type + '_' + str(n_qubits[0]) +  'qubits_ideal_' + str(number) + '.csv')"
   ]
  },
  {
   "cell_type": "code",
   "execution_count": 33,
   "metadata": {},
   "outputs": [
    {
     "data": {
      "text/plain": [
       "'\\ncol = []\\nfor i in range(2**n_qubits[0]):\\n    bit_i = str(bin(i)[2:]).zfill(n_qubits[0])\\n    col.append(bit_i)\\n    \\nX.columns = col \\nY.columns = col\\n'"
      ]
     },
     "execution_count": 33,
     "metadata": {},
     "output_type": "execute_result"
    }
   ],
   "source": [
    "'''\n",
    "col = []\n",
    "for i in range(2**n_qubits[0]):\n",
    "    bit_i = str(bin(i)[2:]).zfill(n_qubits[0])\n",
    "    col.append(bit_i)\n",
    "    \n",
    "X.columns = col \n",
    "Y.columns = col\n",
    "''' "
   ]
  },
  {
   "cell_type": "code",
   "execution_count": 62,
   "metadata": {},
   "outputs": [],
   "source": [
    "X_CI = []\n",
    "Y_CI = []\n",
    "\n",
    "p_q = [[0, 2, 3], [8, 11], [1, 4, 5], [10, 12]]\n",
    "c_q = [6, 7, 9]\n",
    "\n",
    "total_partition = len(p_q)\n",
    "partition_q = len(c_q)\n",
    "    \n",
    "for i in range(total_partition * 2 ** partition_q):\n",
    "    X_CI.append(pd.read_csv('./' + device_type + '/' + device_type + '_' + str(n_qubits[0]) +  'qubits' + '_obs_CI_' + str(i) + '.csv'))\n",
    "    Y_CI.append(pd.read_csv('./' + device_type + '/' + device_type + '_' + str(n_qubits[0]) +  'qubits' + '_ideal_CI_' + str(i) + '.csv') )\n",
    "    \n",
    "\n",
    "X_d = []\n",
    "Y_d = []\n",
    "for i in range(partition_q):  \n",
    "    X_d.append(pd.read_csv('./' + device_type + '/' + device_type + '_' + str(n_qubits[0]) +  'qubits' + '_obs_CI_' + 'D' + str(i) + '.csv'))\n",
    "    Y_d.append(pd.read_csv('./' + device_type + '/' + device_type + '_' + str(n_qubits[0]) +  'qubits' + '_ideal_CI_' + 'D' + str(i) + '.csv'))"
   ]
  },
  {
   "cell_type": "code",
   "execution_count": null,
   "metadata": {},
   "outputs": [],
   "source": [
    "n_train_data = 5000 # 11700, 10200 -> 9000개 고정 ->test : 2700, 1200\n",
    "#random_state = [56, 1, 14, 44, 71]\n",
    "#train_size = [100, 500, 1000, 2000, 3000, 5000, 7000, 9000]\n",
    "random_state = [1]\n",
    "train_size = [5000]\n",
    "\n",
    "unmitigated_res_t = []\n",
    "LI_res_t = []\n",
    "NN_res_t = []\n",
    "CI_res_t = []\n",
    "\n",
    "for i in random_state:\n",
    "    trainX, testX, trainY, testY  = get_train_test_CI(X, Y, n_train_data, random_state = i)\n",
    "\n",
    "    trainX_CI = [0 for i in range(total_partition * 2 ** partition_q)]\n",
    "    testX_CI = [0 for i in range(total_partition * 2 ** partition_q)]\n",
    "    trainY_CI = [0 for i in range(total_partition * 2 ** partition_q)]\n",
    "    testY_CI = [0 for i in range(total_partition * 2 ** partition_q)]\n",
    "    \n",
    "    trainX_d = [0 for i in range(partition_q)]\n",
    "    testX_d = [0 for i in range(partition_q)]\n",
    "    trainY_d = [0 for i in range(partition_q)]\n",
    "    testY_d = [0 for i in range(partition_q)]\n",
    "    \n",
    "    for j in range(total_partition * 2 ** partition_q):\n",
    "        trainX_CI[j], testX_CI[j], trainY_CI[j], testY_CI[j] = get_train_test_CI(X_CI[j], Y_CI[j], n_train_data, random_state = i)\n",
    "\n",
    "    for j in range(partition_q):  \n",
    "        trainX_d[j], testX_d[j], trainY_d[j], testY_d[j] = get_train_test_CI(X_d[j], Y_d[j], n_train_data, random_state = i)\n",
    "    \n",
    "    unmitigated_p = []\n",
    "    LI_res_p = []\n",
    "    NN_res_p = []\n",
    "    CI_res_p = []\n",
    "        \n",
    "    for j in train_size:\n",
    "        miti = []\n",
    "        #miti = train(trainX, trainY, testX, 7, j)\n",
    "        f = []\n",
    "        for k in range(2 * (2 ** partition_q)):\n",
    "            miti.append(train_save(trainX_CI[k], trainY_CI[k], testX_CI[k], len(p_q[int(k / (2**partition_q))]), j, device_type, cd = str(k)))\n",
    "            f.append('./' + device_type + '/' + device_type + '_' + str(len(p_q[int(k / (2**partition_q))])) + 'qubits' + str(k) +' model.h5')\n",
    "            \n",
    "        model_t = []\n",
    "        for k in range(len(f)):\n",
    "            model_t.append(load_model(f[k]))\n",
    "            for layer in model_t[k].layers:\n",
    "                layer.trainable = False\n",
    "            model_t[k].layers[5].trainable = True\n",
    "\n",
    "\n",
    "            \n",
    "        for k in range(2 * (2 ** partition_q), total_partition * 2 ** partition_q):\n",
    "            miti.append(train_transfer(model_t[k - 2 * (2 ** partition_q)], trainX_CI[k], trainY_CI[k], testX_CI[k], len(p_q[int(k / (2**partition_q))]), j))\n",
    "        \n",
    "        \n",
    "        for k in range(partition_q):\n",
    "            miti.append(train(trainX_d[k], trainY_d[k], testX_d[k], 1, j))\n",
    "           \n",
    "        res = CI(miti)\n",
    "        \n",
    "        unmitigated_p.append(loss_function(testY.values, testX.values, n_qubits[0]))\n",
    "        #LI_res_p.append(loss_function(testY.values, test_LI_miti.values, n_qubits[0]))\n",
    "        #NN_res_p.append(loss_function(testY.values, miti[0], n_qubits[0]))\n",
    "        CI_res_p.append(loss_function(testY.values, res.values, n_qubits[0]))\n",
    "\n",
    "        \n",
    "    unmitigated_res_t.append(unmitigated_p)\n",
    "    #LI_res.append(LI_res_p)\n",
    "    #NN_res.append(NN_res_p)\n",
    "    CI_res_t.append(CI_res_p)\n",
    "        "
   ]
  },
  {
   "cell_type": "code",
   "execution_count": 64,
   "metadata": {},
   "outputs": [
    {
     "data": {
      "text/plain": [
       "[[(4.3697712657477495e-08, 0.06980971526587004, 0.04756922596085118)]]"
      ]
     },
     "execution_count": 64,
     "metadata": {},
     "output_type": "execute_result"
    }
   ],
   "source": [
    "unmitigated_res_t"
   ]
  },
  {
   "cell_type": "code",
   "execution_count": 65,
   "metadata": {},
   "outputs": [
    {
     "data": {
      "text/plain": [
       "[[(2.7505926305836963e-09, 0.007107474595787498, 0.0037716294582448018)]]"
      ]
     },
     "execution_count": 65,
     "metadata": {},
     "output_type": "execute_result"
    }
   ],
   "source": [
    "CI_res"
   ]
  },
  {
   "cell_type": "code",
   "execution_count": 66,
   "metadata": {},
   "outputs": [
    {
     "data": {
      "text/plain": [
       "[[(2.016948471937956e-09, 0.00586293283151532, 0.0031248021730931747)]]"
      ]
     },
     "execution_count": 66,
     "metadata": {},
     "output_type": "execute_result"
    }
   ],
   "source": [
    "CI_res_t"
   ]
  },
  {
   "cell_type": "code",
   "execution_count": 67,
   "metadata": {},
   "outputs": [
    {
     "data": {
      "image/png": "[encoded data removed]",
      "text/plain": [
       "<Figure size 640x480 with 1 Axes>"
      ]
     },
     "metadata": {},
     "output_type": "display_data"
    }
   ],
   "source": [
    "topics = ['13qubit']\n",
    "label = ['unmitigated', 'CI', 'CI + Transfer']\n",
    "show_plot(topics, unmitigated_res_t[0], CI_res[0], CI_res_t[0], 0, label)"
   ]
  },
  {
   "cell_type": "code",
   "execution_count": 68,
   "metadata": {},
   "outputs": [
    {
     "data": {
      "image/png": "[encoded data removed]",
      "text/plain": [
       "<Figure size 640x480 with 1 Axes>"
      ]
     },
     "metadata": {},
     "output_type": "display_data"
    }
   ],
   "source": [
    "show_plot(topics, unmitigated_res_t[0], CI_res[0], CI_res_t[0], 1, label)"
   ]
  },
  {
   "cell_type": "code",
   "execution_count": 69,
   "metadata": {},
   "outputs": [
    {
     "data": {
      "image/png": "[encoded data removed]",
      "text/plain": [
       "<Figure size 640x480 with 1 Axes>"
      ]
     },
     "metadata": {},
     "output_type": "display_data"
    }
   ],
   "source": [
    "show_plot(topics, unmitigated_res_t[0], CI_res[0], CI_res_t[0], 2, label)"
   ]
  },
  {
   "cell_type": "code",
   "execution_count": 70,
   "metadata": {},
   "outputs": [
    {
     "name": "stdout",
     "output_type": "stream",
     "text": [
      "Model: \"sequential_121\"\n",
      "_________________________________________________________________\n",
      " Layer (type)                Output Shape              Param #   \n",
      "=================================================================\n",
      " dense_726 (Dense)           (None, 40)                360       \n",
      "                                                                 \n",
      " dense_727 (Dense)           (None, 40)                1640      \n",
      "                                                                 \n",
      " dense_728 (Dense)           (None, 40)                1640      \n",
      "                                                                 \n",
      " dense_729 (Dense)           (None, 40)                1640      \n",
      "                                                                 \n",
      " dense_730 (Dense)           (None, 40)                1640      \n",
      "                                                                 \n",
      " dense_731 (Dense)           (None, 8)                 328       \n",
      "                                                                 \n",
      "=================================================================\n",
      "Total params: 7,248\n",
      "Trainable params: 328\n",
      "Non-trainable params: 6,920\n",
      "_________________________________________________________________\n"
     ]
    }
   ],
   "source": [
    "model_t[0].summary()"
   ]
  },
  {
   "cell_type": "code",
   "execution_count": 71,
   "metadata": {},
   "outputs": [
    {
     "name": "stdout",
     "output_type": "stream",
     "text": [
      "Model: \"sequential_129\"\n",
      "_________________________________________________________________\n",
      " Layer (type)                Output Shape              Param #   \n",
      "=================================================================\n",
      " dense_774 (Dense)           (None, 20)                100       \n",
      "                                                                 \n",
      " dense_775 (Dense)           (None, 20)                420       \n",
      "                                                                 \n",
      " dense_776 (Dense)           (None, 20)                420       \n",
      "                                                                 \n",
      " dense_777 (Dense)           (None, 20)                420       \n",
      "                                                                 \n",
      " dense_778 (Dense)           (None, 20)                420       \n",
      "                                                                 \n",
      " dense_779 (Dense)           (None, 4)                 84        \n",
      "                                                                 \n",
      "=================================================================\n",
      "Total params: 1,864\n",
      "Trainable params: 84\n",
      "Non-trainable params: 1,780\n",
      "_________________________________________________________________\n"
     ]
    }
   ],
   "source": [
    "model_t[8].summary()"
   ]
  },
  {
   "cell_type": "code",
   "execution_count": 72,
   "metadata": {},
   "outputs": [
    {
     "name": "stdout",
     "output_type": "stream",
     "text": [
      "Model: \"sequential_136\"\n",
      "_________________________________________________________________\n",
      " Layer (type)                Output Shape              Param #   \n",
      "=================================================================\n",
      " dense_816 (Dense)           (None, 20)                100       \n",
      "                                                                 \n",
      " dense_817 (Dense)           (None, 20)                420       \n",
      "                                                                 \n",
      " dense_818 (Dense)           (None, 20)                420       \n",
      "                                                                 \n",
      " dense_819 (Dense)           (None, 20)                420       \n",
      "                                                                 \n",
      " dense_820 (Dense)           (None, 20)                420       \n",
      "                                                                 \n",
      " dense_821 (Dense)           (None, 4)                 84        \n",
      "                                                                 \n",
      "=================================================================\n",
      "Total params: 1,864\n",
      "Trainable params: 84\n",
      "Non-trainable params: 1,780\n",
      "_________________________________________________________________\n"
     ]
    }
   ],
   "source": [
    "model_t[15].summary()"
   ]
  },
  {
   "cell_type": "code",
   "execution_count": null,
   "metadata": {},
   "outputs": [],
   "source": []
  }
 ],
 "metadata": {
  "kernelspec": {
   "display_name": "quantum",
   "language": "python",
   "name": "python3"
  },
  "language_info": {
   "codemirror_mode": {
    "name": "ipython",
    "version": 3
   },
   "file_extension": ".py",
   "mimetype": "text/x-python",
   "name": "python",
   "nbconvert_exporter": "python",
   "pygments_lexer": "ipython3",
   "version": "3.11.2"
  },
  "orig_nbformat": 4
 },
 "nbformat": 4,
 "nbformat_minor": 2
}
